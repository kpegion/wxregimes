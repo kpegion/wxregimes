{
 "cells": [
  {
   "cell_type": "code",
   "execution_count": 104,
   "metadata": {},
   "outputs": [],
   "source": [
    "import numpy as np\n",
    "from array import array\n",
    "import xarray as xr\n",
    "import matplotlib.pyplot as plt"
   ]
  },
  {
   "cell_type": "markdown",
   "metadata": {},
   "source": [
    "### Define number of lats and lons"
   ]
  },
  {
   "cell_type": "code",
   "execution_count": 105,
   "metadata": {},
   "outputs": [],
   "source": [
    "nlons=128\n",
    "nlats=64"
   ]
  },
  {
   "cell_type": "markdown",
   "metadata": {},
   "source": [
    "### Calculate Fortran record length for sequential access"
   ]
  },
  {
   "cell_type": "code",
   "execution_count": null,
   "metadata": {},
   "outputs": [],
   "source": [
    "reclfseq=(nlons*nlats+2)*4"
   ]
  },
  {
   "cell_type": "markdown",
   "metadata": {},
   "source": [
    "### Define path and file"
   ]
  },
  {
   "cell_type": "code",
   "execution_count": 106,
   "metadata": {},
   "outputs": [],
   "source": [
    "path='/shared/metis/tco199/T42/gm8w/grid/1986110100/01/'\n",
    "fname='gm8w_1986110100_01_N32.data'"
   ]
  },
  {
   "cell_type": "markdown",
   "metadata": {},
   "source": [
    "### Read Data"
   ]
  },
  {
   "cell_type": "code",
   "execution_count": 107,
   "metadata": {},
   "outputs": [
    {
     "data": {
      "text/plain": [
       "(64, 128)"
      ]
     },
     "execution_count": 107,
     "metadata": {},
     "output_type": "execute_result"
    }
   ],
   "source": [
    "# Open Data File\n",
    "luin = open(path+fname,'rb')\n",
    "\n",
    "# Read in fortran record in bytes\n",
    "tmp=luin.read(reclfseq)\n",
    "\n",
    "# Convert to single precision (real 32bit)\n",
    "tmp1=array('f',tmp)  \n",
    "\n",
    "# Pull out data array (leaving behind fortran control records)\n",
    "tmp2=tmp1[1:-1] \n",
    "\n",
    "# Create a 2D Array\n",
    "data=np.reshape(tmp2,(nlats,nlons))  \n",
    "\n",
    "# Confirm the Data Shape\n",
    "data.shape"
   ]
  },
  {
   "cell_type": "markdown",
   "metadata": {},
   "source": [
    "### Define lons and lats"
   ]
  },
  {
   "cell_type": "code",
   "execution_count": 113,
   "metadata": {},
   "outputs": [
    {
     "name": "stdout",
     "output_type": "stream",
     "text": [
      "[87.86, 85.1, 82.31, 79.53, 76.74, 73.95, 71.16, 68.37, 65.58, 62.79, 60.0, 57.21, 54.42, 51.63, 48.84, 46.04, 43.25, 40.46, 37.67, 34.88, 32.09, 29.3, 26.51, 23.72, 20.93, 18.14, 15.35, 12.56, 9.77, 6.98, 4.19, 1.4, -1.4, -4.19, -6.98, -9.77, -12.56, -15.35, -18.14, -20.93, -23.72, -26.51, -29.3, -32.09, -34.88, -37.67, -40.46, -43.25, -46.04, -48.84, -51.63, -54.42, -57.21, -60.0, -62.79, -65.58, -68.37, -71.16, -73.95, -76.74, -79.53, -82.31, -85.1, -87.86]\n"
     ]
    }
   ],
   "source": [
    "lats=[-87.86, -85.10, -82.31, -79.53, -76.74, -73.95, -71.16, -68.37, \\\n",
    "      -65.58, -62.79, -60.00, -57.21, -54.42, -51.63, -48.84, -46.04, \\\n",
    "      -43.25, -40.46, -37.67, -34.88, -32.09, -29.30, -26.51, -23.72, \\\n",
    "      -20.93, -18.14, -15.35, -12.56, -9.77,  -6.98,  -4.19,  -1.40, \\\n",
    "      1.40,   4.19,   6.98,   9.77,  12.56,  15.35,  18.14,  20.93, \\\n",
    "      23.72,  26.51,  29.30,  32.09,  34.88,  37.67,  40.46,  43.25, \\\n",
    "      46.04,  48.84,  51.63,  54.42,  57.21,  60.00,  62.79,  65.58, \\\n",
    "      68.37,  71.16,  73.95,  76.74,  79.53,  82.31,  85.10,  87.86]\n",
    "lats=lats[::-1]\n",
    "print(lats)\n",
    "lons=np.arange(128)*2.8125 + 0.0"
   ]
  },
  {
   "cell_type": "markdown",
   "metadata": {},
   "source": [
    "### Quick test plot"
   ]
  },
  {
   "cell_type": "code",
   "execution_count": 114,
   "metadata": {},
   "outputs": [
    {
     "data": {
      "text/plain": [
       "<matplotlib.contour.QuadContourSet at 0x7f1b5486ec18>"
      ]
     },
     "execution_count": 114,
     "metadata": {},
     "output_type": "execute_result"
    },
    {
     "data": {
      "image/png": "[encoded data removed]",
      "text/plain": [
       "<Figure size 432x288 with 1 Axes>"
      ]
     },
     "metadata": {
      "needs_background": "light"
     },
     "output_type": "display_data"
    }
   ],
   "source": [
    "plt.contourf(data)"
   ]
  },
  {
   "cell_type": "markdown",
   "metadata": {},
   "source": [
    "### Make xarray dataset"
   ]
  },
  {
   "cell_type": "code",
   "execution_count": 115,
   "metadata": {},
   "outputs": [
    {
     "data": {
      "text/html": [
       "<pre>&lt;xarray.Dataset&gt;\n",
       "Dimensions:  (lat: 64, lon: 128)\n",
       "Coordinates:\n",
       "  * lat      (lat) float64 87.86 85.1 82.31 79.53 ... -79.53 -82.31 -85.1 -87.86\n",
       "  * lon      (lon) float64 0.0 2.812 5.625 8.438 ... 348.8 351.6 354.4 357.2\n",
       "Data variables:\n",
       "    temp     (lat, lon) float32 259.0288 259.05154 ... 253.68103 253.6028</pre>"
      ],
      "text/plain": [
       "<xarray.Dataset>\n",
       "Dimensions:  (lat: 64, lon: 128)\n",
       "Coordinates:\n",
       "  * lat      (lat) float64 87.86 85.1 82.31 79.53 ... -79.53 -82.31 -85.1 -87.86\n",
       "  * lon      (lon) float64 0.0 2.812 5.625 8.438 ... 348.8 351.6 354.4 357.2\n",
       "Data variables:\n",
       "    temp     (lat, lon) float32 259.0288 259.05154 ... 253.68103 253.6028"
      ]
     },
     "execution_count": 115,
     "metadata": {},
     "output_type": "execute_result"
    }
   ],
   "source": [
    "ds=xr.DataArray(data,\n",
    "                coords={'lat':lats,\n",
    "                        'lon': lons},\n",
    "                        dims=['lat','lon'])        \n",
    "ds=ds.to_dataset(name='temp')\n",
    "ds"
   ]
  },
  {
   "cell_type": "markdown",
   "metadata": {},
   "source": [
    "### Quick test plot"
   ]
  },
  {
   "cell_type": "code",
   "execution_count": 117,
   "metadata": {},
   "outputs": [
    {
     "data": {
      "text/plain": [
       "<matplotlib.contour.QuadContourSet at 0x7f1b547fe080>"
      ]
     },
     "execution_count": 117,
     "metadata": {},
     "output_type": "execute_result"
    },
    {
     "data": {
      "image/png": "[encoded data removed]",
      "text/plain": [
       "<Figure size 432x288 with 1 Axes>"
      ]
     },
     "metadata": {
      "needs_background": "light"
     },
     "output_type": "display_data"
    }
   ],
   "source": [
    "plt.contourf(ds['temp'])"
   ]
  },
  {
   "cell_type": "markdown",
   "metadata": {},
   "source": [
    "### Write to netcdf"
   ]
  },
  {
   "cell_type": "code",
   "execution_count": 118,
   "metadata": {},
   "outputs": [],
   "source": [
    "ds.to_netcdf('tempgaussian.128x64.nc')"
   ]
  }
 ],
 "metadata": {
  "kernelspec": {
   "display_name": "Python (aoes)",
   "language": "python",
   "name": "aoes"
  },
  "language_info": {
   "codemirror_mode": {
    "name": "ipython",
    "version": 3
   },
   "file_extension": ".py",
   "mimetype": "text/x-python",
   "name": "python",
   "nbconvert_exporter": "python",
   "pygments_lexer": "ipython3",
   "version": "3.6.10"
  }
 },
 "nbformat": 4,
 "nbformat_minor": 4
}
