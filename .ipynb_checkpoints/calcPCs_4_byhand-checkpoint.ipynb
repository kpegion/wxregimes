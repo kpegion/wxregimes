{
 "cells": [
  {
   "cell_type": "markdown",
   "metadata": {},
   "source": [
    "# calcPCs\n",
    "This is the fourth step in reproducing the cluster analysis from Sara and David following Amini et al 2019\n",
    "https://doi.org/10.1007/s00382-018-4409-7\n",
    "\n",
    "This program:"
   ]
  },
  {
   "cell_type": "code",
   "execution_count": 1,
   "metadata": {},
   "outputs": [],
   "source": [
    "import xarray as xr\n",
    "import matplotlib.pyplot as plt\n",
    "import pandas as pd\n",
    "import numpy as np\n",
    "import cartopy.crs as ccrs\n",
    "import cartopy.mpl.ticker as cticker"
   ]
  },
  {
   "cell_type": "markdown",
   "metadata": {},
   "source": [
    "### Define Input and Output Data"
   ]
  },
  {
   "cell_type": "code",
   "execution_count": 2,
   "metadata": {},
   "outputs": [],
   "source": [
    "# Input\n",
    "path='/project/predictability/kpegion/wxregimes/era-interim/'\n",
    "fname='erai.z500_u250_pna_5dyrm_DJF.1980-2015.anoms.nc'\n",
    "\n",
    "# Output\n",
    "outfile='erai.z500_u250_pna_5dyrm_DJF.1980-2015.pcs.nc'"
   ]
  },
  {
   "cell_type": "markdown",
   "metadata": {},
   "source": [
    "### Define constants"
   ]
  },
  {
   "cell_type": "code",
   "execution_count": 3,
   "metadata": {},
   "outputs": [],
   "source": [
    "npcs=12"
   ]
  },
  {
   "cell_type": "markdown",
   "metadata": {},
   "source": [
    "### Read Data"
   ]
  },
  {
   "cell_type": "code",
   "execution_count": 4,
   "metadata": {},
   "outputs": [
    {
     "name": "stdout",
     "output_type": "stream",
     "text": [
      "/project/predictability/kpegion/wxregimes/era-interim/erai.z500_u250_pna_5dyrm_DJF.1980-2015.anoms.nc\n"
     ]
    },
    {
     "data": {
      "text/html": [
       "<div><svg style=\"position: absolute; width: 0; height: 0; overflow: hidden\">\n",
       "<defs>\n",
       "<symbol id=\"icon-database\" viewBox=\"0 0 32 32\">\n",
       "<title>Show/Hide data repr</title>\n",
       "<path d=\"M16 0c-8.837 0-16 2.239-16 5v4c0 2.761 7.163 5 16 5s16-2.239 16-5v-4c0-2.761-7.163-5-16-5z\"></path>\n",
       "<path d=\"M16 17c-8.837 0-16-2.239-16-5v6c0 2.761 7.163 5 16 5s16-2.239 16-5v-6c0 2.761-7.163 5-16 5z\"></path>\n",
       "<path d=\"M16 26c-8.837 0-16-2.239-16-5v6c0 2.761 7.163 5 16 5s16-2.239 16-5v-6c0 2.761-7.163 5-16 5z\"></path>\n",
       "</symbol>\n",
       "<symbol id=\"icon-file-text2\" viewBox=\"0 0 32 32\">\n",
       "<title>Show/Hide attributes</title>\n",
       "<path d=\"M28.681 7.159c-0.694-0.947-1.662-2.053-2.724-3.116s-2.169-2.030-3.116-2.724c-1.612-1.182-2.393-1.319-2.841-1.319h-15.5c-1.378 0-2.5 1.121-2.5 2.5v27c0 1.378 1.122 2.5 2.5 2.5h23c1.378 0 2.5-1.122 2.5-2.5v-19.5c0-0.448-0.137-1.23-1.319-2.841zM24.543 5.457c0.959 0.959 1.712 1.825 2.268 2.543h-4.811v-4.811c0.718 0.556 1.584 1.309 2.543 2.268zM28 29.5c0 0.271-0.229 0.5-0.5 0.5h-23c-0.271 0-0.5-0.229-0.5-0.5v-27c0-0.271 0.229-0.5 0.5-0.5 0 0 15.499-0 15.5 0v7c0 0.552 0.448 1 1 1h7v19.5z\"></path>\n",
       "<path d=\"M23 26h-14c-0.552 0-1-0.448-1-1s0.448-1 1-1h14c0.552 0 1 0.448 1 1s-0.448 1-1 1z\"></path>\n",
       "<path d=\"M23 22h-14c-0.552 0-1-0.448-1-1s0.448-1 1-1h14c0.552 0 1 0.448 1 1s-0.448 1-1 1z\"></path>\n",
       "<path d=\"M23 18h-14c-0.552 0-1-0.448-1-1s0.448-1 1-1h14c0.552 0 1 0.448 1 1s-0.448 1-1 1z\"></path>\n",
       "</symbol>\n",
       "</defs>\n",
       "</svg>\n",
       "<style>/* CSS stylesheet for displaying xarray objects in jupyterlab.\n",
       " *\n",
       " */\n",
       "\n",
       ":root {\n",
       "  --xr-font-color0: var(--jp-content-font-color0, rgba(0, 0, 0, 1));\n",
       "  --xr-font-color2: var(--jp-content-font-color2, rgba(0, 0, 0, 0.54));\n",
       "  --xr-font-color3: var(--jp-content-font-color3, rgba(0, 0, 0, 0.38));\n",
       "  --xr-border-color: var(--jp-border-color2, #e0e0e0);\n",
       "  --xr-disabled-color: var(--jp-layout-color3, #bdbdbd);\n",
       "  --xr-background-color: var(--jp-layout-color0, white);\n",
       "  --xr-background-color-row-even: var(--jp-layout-color1, white);\n",
       "  --xr-background-color-row-odd: var(--jp-layout-color2, #eeeeee);\n",
       "}\n",
       "\n",
       ".xr-wrap {\n",
       "  min-width: 300px;\n",
       "  max-width: 700px;\n",
       "}\n",
       "\n",
       ".xr-header {\n",
       "  padding-top: 6px;\n",
       "  padding-bottom: 6px;\n",
       "  margin-bottom: 4px;\n",
       "  border-bottom: solid 1px var(--xr-border-color);\n",
       "}\n",
       "\n",
       ".xr-header > div,\n",
       ".xr-header > ul {\n",
       "  display: inline;\n",
       "  margin-top: 0;\n",
       "  margin-bottom: 0;\n",
       "}\n",
       "\n",
       ".xr-obj-type,\n",
       ".xr-array-name {\n",
       "  margin-left: 2px;\n",
       "  margin-right: 10px;\n",
       "}\n",
       "\n",
       ".xr-obj-type {\n",
       "  color: var(--xr-font-color2);\n",
       "}\n",
       "\n",
       ".xr-sections {\n",
       "  padding-left: 0 !important;\n",
       "  display: grid;\n",
       "  grid-template-columns: 150px auto auto 1fr 20px 20px;\n",
       "}\n",
       "\n",
       ".xr-section-item {\n",
       "  display: contents;\n",
       "}\n",
       "\n",
       ".xr-section-item input {\n",
       "  display: none;\n",
       "}\n",
       "\n",
       ".xr-section-item input + label {\n",
       "  color: var(--xr-disabled-color);\n",
       "}\n",
       "\n",
       ".xr-section-item input:enabled + label {\n",
       "  cursor: pointer;\n",
       "  color: var(--xr-font-color2);\n",
       "}\n",
       "\n",
       ".xr-section-item input:enabled + label:hover {\n",
       "  color: var(--xr-font-color0);\n",
       "}\n",
       "\n",
       ".xr-section-summary {\n",
       "  grid-column: 1;\n",
       "  color: var(--xr-font-color2);\n",
       "  font-weight: 500;\n",
       "}\n",
       "\n",
       ".xr-section-summary > span {\n",
       "  display: inline-block;\n",
       "  padding-left: 0.5em;\n",
       "}\n",
       "\n",
       ".xr-section-summary-in:disabled + label {\n",
       "  color: var(--xr-font-color2);\n",
       "}\n",
       "\n",
       ".xr-section-summary-in + label:before {\n",
       "  display: inline-block;\n",
       "  content: '►';\n",
       "  font-size: 11px;\n",
       "  width: 15px;\n",
       "  text-align: center;\n",
       "}\n",
       "\n",
       ".xr-section-summary-in:disabled + label:before {\n",
       "  color: var(--xr-disabled-color);\n",
       "}\n",
       "\n",
       ".xr-section-summary-in:checked + label:before {\n",
       "  content: '▼';\n",
       "}\n",
       "\n",
       ".xr-section-summary-in:checked + label > span {\n",
       "  display: none;\n",
       "}\n",
       "\n",
       ".xr-section-summary,\n",
       ".xr-section-inline-details {\n",
       "  padding-top: 4px;\n",
       "  padding-bottom: 4px;\n",
       "}\n",
       "\n",
       ".xr-section-inline-details {\n",
       "  grid-column: 2 / -1;\n",
       "}\n",
       "\n",
       ".xr-section-details {\n",
       "  display: none;\n",
       "  grid-column: 1 / -1;\n",
       "  margin-bottom: 5px;\n",
       "}\n",
       "\n",
       ".xr-section-summary-in:checked ~ .xr-section-details {\n",
       "  display: contents;\n",
       "}\n",
       "\n",
       ".xr-array-wrap {\n",
       "  grid-column: 1 / -1;\n",
       "  display: grid;\n",
       "  grid-template-columns: 20px auto;\n",
       "}\n",
       "\n",
       ".xr-array-wrap > label {\n",
       "  grid-column: 1;\n",
       "  vertical-align: top;\n",
       "}\n",
       "\n",
       ".xr-preview {\n",
       "  color: var(--xr-font-color3);\n",
       "}\n",
       "\n",
       ".xr-array-preview,\n",
       ".xr-array-data {\n",
       "  padding: 0 5px !important;\n",
       "  grid-column: 2;\n",
       "}\n",
       "\n",
       ".xr-array-data,\n",
       ".xr-array-in:checked ~ .xr-array-preview {\n",
       "  display: none;\n",
       "}\n",
       "\n",
       ".xr-array-in:checked ~ .xr-array-data,\n",
       ".xr-array-preview {\n",
       "  display: inline-block;\n",
       "}\n",
       "\n",
       ".xr-dim-list {\n",
       "  display: inline-block !important;\n",
       "  list-style: none;\n",
       "  padding: 0 !important;\n",
       "  margin: 0;\n",
       "}\n",
       "\n",
       ".xr-dim-list li {\n",
       "  display: inline-block;\n",
       "  padding: 0;\n",
       "  margin: 0;\n",
       "}\n",
       "\n",
       ".xr-dim-list:before {\n",
       "  content: '(';\n",
       "}\n",
       "\n",
       ".xr-dim-list:after {\n",
       "  content: ')';\n",
       "}\n",
       "\n",
       ".xr-dim-list li:not(:last-child):after {\n",
       "  content: ',';\n",
       "  padding-right: 5px;\n",
       "}\n",
       "\n",
       ".xr-has-index {\n",
       "  font-weight: bold;\n",
       "}\n",
       "\n",
       ".xr-var-list,\n",
       ".xr-var-item {\n",
       "  display: contents;\n",
       "}\n",
       "\n",
       ".xr-var-item > div,\n",
       ".xr-var-item label,\n",
       ".xr-var-item > .xr-var-name span {\n",
       "  background-color: var(--xr-background-color-row-even);\n",
       "  margin-bottom: 0;\n",
       "}\n",
       "\n",
       ".xr-var-item > .xr-var-name:hover span {\n",
       "  padding-right: 5px;\n",
       "}\n",
       "\n",
       ".xr-var-list > li:nth-child(odd) > div,\n",
       ".xr-var-list > li:nth-child(odd) > label,\n",
       ".xr-var-list > li:nth-child(odd) > .xr-var-name span {\n",
       "  background-color: var(--xr-background-color-row-odd);\n",
       "}\n",
       "\n",
       ".xr-var-name {\n",
       "  grid-column: 1;\n",
       "}\n",
       "\n",
       ".xr-var-dims {\n",
       "  grid-column: 2;\n",
       "}\n",
       "\n",
       ".xr-var-dtype {\n",
       "  grid-column: 3;\n",
       "  text-align: right;\n",
       "  color: var(--xr-font-color2);\n",
       "}\n",
       "\n",
       ".xr-var-preview {\n",
       "  grid-column: 4;\n",
       "}\n",
       "\n",
       ".xr-var-name,\n",
       ".xr-var-dims,\n",
       ".xr-var-dtype,\n",
       ".xr-preview,\n",
       ".xr-attrs dt {\n",
       "  white-space: nowrap;\n",
       "  overflow: hidden;\n",
       "  text-overflow: ellipsis;\n",
       "  padding-right: 10px;\n",
       "}\n",
       "\n",
       ".xr-var-name:hover,\n",
       ".xr-var-dims:hover,\n",
       ".xr-var-dtype:hover,\n",
       ".xr-attrs dt:hover {\n",
       "  overflow: visible;\n",
       "  width: auto;\n",
       "  z-index: 1;\n",
       "}\n",
       "\n",
       ".xr-var-attrs,\n",
       ".xr-var-data {\n",
       "  display: none;\n",
       "  background-color: var(--xr-background-color) !important;\n",
       "  padding-bottom: 5px !important;\n",
       "}\n",
       "\n",
       ".xr-var-attrs-in:checked ~ .xr-var-attrs,\n",
       ".xr-var-data-in:checked ~ .xr-var-data {\n",
       "  display: block;\n",
       "}\n",
       "\n",
       ".xr-var-data > table {\n",
       "  float: right;\n",
       "}\n",
       "\n",
       ".xr-var-name span,\n",
       ".xr-var-data,\n",
       ".xr-attrs {\n",
       "  padding-left: 25px !important;\n",
       "}\n",
       "\n",
       ".xr-attrs,\n",
       ".xr-var-attrs,\n",
       ".xr-var-data {\n",
       "  grid-column: 1 / -1;\n",
       "}\n",
       "\n",
       "dl.xr-attrs {\n",
       "  padding: 0;\n",
       "  margin: 0;\n",
       "  display: grid;\n",
       "  grid-template-columns: 125px auto;\n",
       "}\n",
       "\n",
       ".xr-attrs dt, dd {\n",
       "  padding: 0;\n",
       "  margin: 0;\n",
       "  float: left;\n",
       "  padding-right: 10px;\n",
       "  width: auto;\n",
       "}\n",
       "\n",
       ".xr-attrs dt {\n",
       "  font-weight: normal;\n",
       "  grid-column: 1;\n",
       "}\n",
       "\n",
       ".xr-attrs dt:hover span {\n",
       "  display: inline-block;\n",
       "  background: var(--xr-background-color);\n",
       "  padding-right: 10px;\n",
       "}\n",
       "\n",
       ".xr-attrs dd {\n",
       "  grid-column: 2;\n",
       "  white-space: pre-wrap;\n",
       "  word-break: break-all;\n",
       "}\n",
       "\n",
       ".xr-icon-database,\n",
       ".xr-icon-file-text2 {\n",
       "  display: inline-block;\n",
       "  vertical-align: middle;\n",
       "  width: 1em;\n",
       "  height: 1.5em !important;\n",
       "  stroke-width: 0;\n",
       "  stroke: currentColor;\n",
       "  fill: currentColor;\n",
       "}\n",
       "</style><div class='xr-wrap'><div class='xr-header'><div class='xr-obj-type'>xarray.Dataset</div></div><ul class='xr-sections'><li class='xr-section-item'><input id='section-948c4a3e-cfe3-4c79-86dc-3b7ef85b55ed' class='xr-section-summary-in' type='checkbox' disabled ><label for='section-948c4a3e-cfe3-4c79-86dc-3b7ef85b55ed' class='xr-section-summary'  title='Expand/collapse section'>Dimensions:</label><div class='xr-section-inline-details'><ul class='xr-dim-list'><li><span class='xr-has-index'>lat</span>: 22</li><li><span class='xr-has-index'>lon</span>: 53</li><li><span class='xr-has-index'>time</span>: 3010</li></ul></div><div class='xr-section-details'></div></li><li class='xr-section-item'><input id='section-46cd3b21-3df8-4bab-af3f-1c2b51c875f4' class='xr-section-summary-in' type='checkbox'  checked><label for='section-46cd3b21-3df8-4bab-af3f-1c2b51c875f4' class='xr-section-summary' >Coordinates: <span>(3)</span></label><div class='xr-section-inline-details'></div><div class='xr-section-details'><ul class='xr-var-list'><li class='xr-var-item'><div class='xr-var-name'><span class='xr-has-index'>time</span></div><div class='xr-var-dims'>(time)</div><div class='xr-var-dtype'>int64</div><div class='xr-var-preview xr-preview'>0 1 2 3 4 ... 3006 3007 3008 3009</div><input id='attrs-dd1017fa-423c-4892-9374-4f97432b84ab' class='xr-var-attrs-in' type='checkbox' disabled><label for='attrs-dd1017fa-423c-4892-9374-4f97432b84ab' title='Show/Hide attributes'><svg class='icon xr-icon-file-text2'><use xlink:href='#icon-file-text2'></use></svg></label><input id='data-fc9c7b68-ce2e-4f57-9f39-81a71767dfac' class='xr-var-data-in' type='checkbox'><label for='data-fc9c7b68-ce2e-4f57-9f39-81a71767dfac' title='Show/Hide data repr'><svg class='icon xr-icon-database'><use xlink:href='#icon-database'></use></svg></label><div class='xr-var-attrs'><dl class='xr-attrs'></dl></div><pre class='xr-var-data'>array([   0,    1,    2, ..., 3007, 3008, 3009])</pre></li><li class='xr-var-item'><div class='xr-var-name'><span class='xr-has-index'>lat</span></div><div class='xr-var-dims'>(lat)</div><div class='xr-var-dtype'>float64</div><div class='xr-var-preview xr-preview'>79.53 76.74 73.95 ... 23.72 20.93</div><input id='attrs-9717ab9f-0adb-445b-b299-e60fd3f10397' class='xr-var-attrs-in' type='checkbox' disabled><label for='attrs-9717ab9f-0adb-445b-b299-e60fd3f10397' title='Show/Hide attributes'><svg class='icon xr-icon-file-text2'><use xlink:href='#icon-file-text2'></use></svg></label><input id='data-111b718c-c2be-44fa-baae-460670e2d92f' class='xr-var-data-in' type='checkbox'><label for='data-111b718c-c2be-44fa-baae-460670e2d92f' title='Show/Hide data repr'><svg class='icon xr-icon-database'><use xlink:href='#icon-database'></use></svg></label><div class='xr-var-attrs'><dl class='xr-attrs'></dl></div><pre class='xr-var-data'>array([79.53, 76.74, 73.95, 71.16, 68.37, 65.58, 62.79, 60.  , 57.21, 54.42,\n",
       "       51.63, 48.84, 46.04, 43.25, 40.46, 37.67, 34.88, 32.09, 29.3 , 26.51,\n",
       "       23.72, 20.93])</pre></li><li class='xr-var-item'><div class='xr-var-name'><span class='xr-has-index'>lon</span></div><div class='xr-var-dims'>(lon)</div><div class='xr-var-dtype'>float64</div><div class='xr-var-preview xr-preview'>151.9 154.7 157.5 ... 295.3 298.1</div><input id='attrs-0743efb6-802b-4ad8-922d-6351774e7504' class='xr-var-attrs-in' type='checkbox' disabled><label for='attrs-0743efb6-802b-4ad8-922d-6351774e7504' title='Show/Hide attributes'><svg class='icon xr-icon-file-text2'><use xlink:href='#icon-file-text2'></use></svg></label><input id='data-a4c92b65-e5d7-4fbb-a281-ae15ecd9a67d' class='xr-var-data-in' type='checkbox'><label for='data-a4c92b65-e5d7-4fbb-a281-ae15ecd9a67d' title='Show/Hide data repr'><svg class='icon xr-icon-database'><use xlink:href='#icon-database'></use></svg></label><div class='xr-var-attrs'><dl class='xr-attrs'></dl></div><pre class='xr-var-data'>array([151.875 , 154.6875, 157.5   , 160.3125, 163.125 , 165.9375, 168.75  ,\n",
       "       171.5625, 174.375 , 177.1875, 180.    , 182.8125, 185.625 , 188.4375,\n",
       "       191.25  , 194.0625, 196.875 , 199.6875, 202.5   , 205.3125, 208.125 ,\n",
       "       210.9375, 213.75  , 216.5625, 219.375 , 222.1875, 225.    , 227.8125,\n",
       "       230.625 , 233.4375, 236.25  , 239.0625, 241.875 , 244.6875, 247.5   ,\n",
       "       250.3125, 253.125 , 255.9375, 258.75  , 261.5625, 264.375 , 267.1875,\n",
       "       270.    , 272.8125, 275.625 , 278.4375, 281.25  , 284.0625, 286.875 ,\n",
       "       289.6875, 292.5   , 295.3125, 298.125 ])</pre></li></ul></div></li><li class='xr-section-item'><input id='section-4c6bbb45-cb0f-4953-b381-d8185ac9baf6' class='xr-section-summary-in' type='checkbox'  checked><label for='section-4c6bbb45-cb0f-4953-b381-d8185ac9baf6' class='xr-section-summary' >Data variables: <span>(2)</span></label><div class='xr-section-inline-details'></div><div class='xr-section-details'><ul class='xr-var-list'><li class='xr-var-item'><div class='xr-var-name'><span>z500</span></div><div class='xr-var-dims'>(time, lat, lon)</div><div class='xr-var-dtype'>float64</div><div class='xr-var-preview xr-preview'>83.96 80.15 76.05 ... 12.89 13.99</div><input id='attrs-e389ff04-4fba-456c-b53d-74957fc33d57' class='xr-var-attrs-in' type='checkbox' disabled><label for='attrs-e389ff04-4fba-456c-b53d-74957fc33d57' title='Show/Hide attributes'><svg class='icon xr-icon-file-text2'><use xlink:href='#icon-file-text2'></use></svg></label><input id='data-ecd3621e-2187-45a6-95e9-fc2649917f90' class='xr-var-data-in' type='checkbox'><label for='data-ecd3621e-2187-45a6-95e9-fc2649917f90' title='Show/Hide data repr'><svg class='icon xr-icon-database'><use xlink:href='#icon-database'></use></svg></label><div class='xr-var-attrs'><dl class='xr-attrs'></dl></div><pre class='xr-var-data'>array([[[ 8.39555485e+01,  8.01483295e+01,  7.60464481e+01, ...,\n",
       "         -4.00365346e+01, -3.92473770e+01, -3.93466655e+01],\n",
       "        [ 9.92032372e+01,  9.58953587e+01,  9.15966731e+01, ...,\n",
       "         -5.72998453e+01, -5.73171624e+01, -5.78488805e+01],\n",
       "        [ 1.21572757e+02,  1.17233092e+02,  1.11761319e+02, ...,\n",
       "         -8.45662433e+01, -8.60096909e+01, -8.84055338e+01],\n",
       "        ...,\n",
       "        [-7.36263178e+01, -6.90910739e+01, -6.31648299e+01, ...,\n",
       "         -3.34706961e+01, -2.05555144e+01, -1.19048848e+01],\n",
       "        [-4.28008460e+01, -3.92140706e+01, -3.49516148e+01, ...,\n",
       "         -2.52569797e+01, -1.67665490e+01, -9.91641298e+00],\n",
       "        [-2.17705016e+01, -1.90842057e+01, -1.57733568e+01, ...,\n",
       "         -2.05389590e+01, -1.44614533e+01, -8.50722203e+00]],\n",
       "\n",
       "       [[ 6.13516477e+01,  5.28752447e+01,  4.44950754e+01, ...,\n",
       "          1.29362631e+01,  1.42320290e+01,  1.42365062e+01],\n",
       "        [ 6.59852538e+01,  5.62122822e+01,  4.62510209e+01, ...,\n",
       "          6.88444020e+00,  6.40053295e+00,  4.78760760e+00],\n",
       "        [ 8.70368825e+01,  7.58609370e+01,  6.39317929e+01, ...,\n",
       "         -1.29768933e+01, -1.54441660e+01, -1.94655138e+01],\n",
       "        ...,\n",
       "        [-5.69239164e+01, -5.26752208e+01, -4.63869039e+01, ...,\n",
       "         -2.73390206e+01, -1.39907677e+01, -4.63358538e+00],\n",
       "        [-3.05409711e+01, -2.69911701e+01, -2.25965766e+01, ...,\n",
       "         -1.79461413e+01, -8.52067496e+00, -1.09957035e+00],\n",
       "        [-1.41618171e+01, -1.11192239e+01, -7.56358377e+00, ...,\n",
       "         -1.30724717e+01, -6.32913660e+00,  1.79724801e-01]],\n",
       "\n",
       "       [[ 4.45315260e+01,  4.03123235e+01,  3.61534780e+01, ...,\n",
       "         -1.89082148e+01, -1.82387605e+01, -1.84624315e+01],\n",
       "        [ 5.87543831e+01,  5.30237754e+01,  4.71201896e+01, ...,\n",
       "         -3.53499504e+01, -3.49171355e+01, -3.50222966e+01],\n",
       "        [ 8.04804062e+01,  7.32798128e+01,  6.53282006e+01, ...,\n",
       "         -4.70858815e+01, -4.66691946e+01, -4.80832604e+01],\n",
       "        ...,\n",
       "        [-6.42639606e+01, -6.11969624e+01, -5.55239943e+01, ...,\n",
       "         -3.42756232e+01, -1.83584437e+01, -6.86643379e+00],\n",
       "        [-3.83279057e+01, -3.51909961e+01, -3.14566694e+01, ...,\n",
       "         -2.11766806e+01, -1.05169506e+01, -2.07854155e+00],\n",
       "        [-2.06167065e+01, -1.83685012e+01, -1.55473538e+01, ...,\n",
       "         -1.31969528e+01, -6.26513612e+00, -3.74142844e-02]],\n",
       "\n",
       "       ...,\n",
       "\n",
       "       [[-3.51312526e+01, -3.45750642e+01, -3.39952209e+01, ...,\n",
       "         -1.36747269e+02, -1.38510368e+02, -1.39888673e+02],\n",
       "        [-2.12701585e+01, -2.26633210e+01, -2.42633522e+01, ...,\n",
       "         -1.27478271e+02, -1.34313235e+02, -1.40431398e+02],\n",
       "        [-1.28300705e+01, -1.65921399e+01, -1.81790794e+01, ...,\n",
       "         -1.19285172e+02, -1.30892436e+02, -1.42545014e+02],\n",
       "        ...,\n",
       "        [-3.95874862e+01, -4.04457315e+01, -3.89875460e+01, ...,\n",
       "          2.25349296e+00,  9.25003052e+00,  1.52790969e+01],\n",
       "        [-2.79424713e+01, -2.85766334e+01, -2.72863757e+01, ...,\n",
       "          1.09885782e+01,  1.33789152e+01,  1.75375569e+01],\n",
       "        [-1.34481026e+01, -1.47741776e+01, -1.53760929e+01, ...,\n",
       "          1.46701647e+01,  1.71700343e+01,  1.99841292e+01]],\n",
       "\n",
       "       [[-3.61880209e+01, -3.31356128e+01, -3.01197405e+01, ...,\n",
       "         -1.64774815e+02, -1.68898684e+02, -1.72044655e+02],\n",
       "        [-1.56371082e+01, -9.72315399e+00, -4.38041504e+00, ...,\n",
       "         -1.51290088e+02, -1.60248273e+02, -1.67654129e+02],\n",
       "        [-3.64202520e+00,  2.31633212e+00,  8.65945130e+00, ...,\n",
       "         -1.34211089e+02, -1.46485019e+02, -1.58444711e+02],\n",
       "        ...,\n",
       "        [-5.67653577e+01, -5.68673455e+01, -5.63412698e+01, ...,\n",
       "         -6.81640342e+00, -2.26732506e+00,  1.18811674e+00],\n",
       "        [-3.47616776e+01, -3.38920369e+01, -3.22383252e+01, ...,\n",
       "          4.98717063e+00,  5.87698188e+00,  8.60055686e+00],\n",
       "        [-1.47606972e+01, -1.32474767e+01, -1.21488107e+01, ...,\n",
       "          1.02620306e+01,  1.13061157e+01,  1.32705713e+01]],\n",
       "\n",
       "       [[-2.71974315e+01, -2.20300935e+01, -1.70876530e+01, ...,\n",
       "         -1.45103486e+02, -1.50826842e+02, -1.55981128e+02],\n",
       "        [-1.82322491e+00,  7.31247743e+00,  1.54633097e+01, ...,\n",
       "         -1.32695230e+02, -1.44092903e+02, -1.53827295e+02],\n",
       "        [ 2.02129582e+01,  3.17651850e+01,  4.17680033e+01, ...,\n",
       "         -1.17937850e+02, -1.32804463e+02, -1.47360047e+02],\n",
       "        ...,\n",
       "        [-6.16113053e+01, -6.40344280e+01, -6.37144482e+01, ...,\n",
       "         -1.76827406e+00,  1.83739965e+00,  4.76688452e+00],\n",
       "        [-4.10310510e+01, -4.24548593e+01, -4.09597145e+01, ...,\n",
       "          8.59870982e+00,  8.68781213e+00,  1.04527636e+01],\n",
       "        [-1.98247248e+01, -2.04103468e+01, -2.05136565e+01, ...,\n",
       "          1.29818982e+01,  1.28904930e+01,  1.39854100e+01]]])</pre></li><li class='xr-var-item'><div class='xr-var-name'><span>u250</span></div><div class='xr-var-dims'>(time, lat, lon)</div><div class='xr-var-dtype'>float64</div><div class='xr-var-preview xr-preview'>...</div><input id='attrs-97739761-43f0-423a-8dad-d4cf653023af' class='xr-var-attrs-in' type='checkbox' disabled><label for='attrs-97739761-43f0-423a-8dad-d4cf653023af' title='Show/Hide attributes'><svg class='icon xr-icon-file-text2'><use xlink:href='#icon-file-text2'></use></svg></label><input id='data-455ccec5-0291-47d7-b052-7f1c0fc821bb' class='xr-var-data-in' type='checkbox'><label for='data-455ccec5-0291-47d7-b052-7f1c0fc821bb' title='Show/Hide data repr'><svg class='icon xr-icon-database'><use xlink:href='#icon-database'></use></svg></label><div class='xr-var-attrs'><dl class='xr-attrs'></dl></div><pre class='xr-var-data'>[3509660 values with dtype=float64]</pre></li></ul></div></li><li class='xr-section-item'><input id='section-bb3eab12-ac96-445c-8468-5b9b201cea32' class='xr-section-summary-in' type='checkbox' disabled ><label for='section-bb3eab12-ac96-445c-8468-5b9b201cea32' class='xr-section-summary'  title='Expand/collapse section'>Attributes: <span>(0)</span></label><div class='xr-section-inline-details'></div><div class='xr-section-details'><dl class='xr-attrs'></dl></div></li></ul></div></div>"
      ],
      "text/plain": [
       "<xarray.Dataset>\n",
       "Dimensions:  (lat: 22, lon: 53, time: 3010)\n",
       "Coordinates:\n",
       "  * time     (time) int64 0 1 2 3 4 5 6 7 ... 3003 3004 3005 3006 3007 3008 3009\n",
       "  * lat      (lat) float64 79.53 76.74 73.95 71.16 ... 29.3 26.51 23.72 20.93\n",
       "  * lon      (lon) float64 151.9 154.7 157.5 160.3 ... 289.7 292.5 295.3 298.1\n",
       "Data variables:\n",
       "    z500     (time, lat, lon) float64 83.96 80.15 76.05 ... 12.98 12.89 13.99\n",
       "    u250     (time, lat, lon) float64 ..."
      ]
     },
     "execution_count": 4,
     "metadata": {},
     "output_type": "execute_result"
    }
   ],
   "source": [
    "print(path+fname)\n",
    "ds=xr.open_dataset(path+fname,decode_times=False)\n",
    "ds['z500']=ds['z500']/9.81\n",
    "ds"
   ]
  },
  {
   "cell_type": "code",
   "execution_count": 5,
   "metadata": {},
   "outputs": [
    {
     "data": {
      "text/plain": [
       "[<matplotlib.lines.Line2D at 0x7f3ebc62b358>]"
      ]
     },
     "execution_count": 5,
     "metadata": {},
     "output_type": "execute_result"
    },
    {
     "data": {
      "image/png": "[encoded data removed]",
      "text/plain": [
       "<Figure size 432x288 with 1 Axes>"
      ]
     },
     "metadata": {
      "needs_background": "light"
     },
     "output_type": "display_data"
    }
   ],
   "source": [
    "plt.plot(ds['z500'][0:86,12,25])"
   ]
  },
  {
   "cell_type": "markdown",
   "metadata": {},
   "source": [
    "### Setup Latitude Weighting"
   ]
  },
  {
   "cell_type": "code",
   "execution_count": 6,
   "metadata": {},
   "outputs": [],
   "source": [
    "coslat = np.cos(np.deg2rad(ds['lat'].values))\n",
    "weights_array = np.sqrt(coslat)[:, np.newaxis]"
   ]
  },
  {
   "cell_type": "markdown",
   "metadata": {},
   "source": [
    "### Do the latitude weighting myself first, then check nomalization"
   ]
  },
  {
   "cell_type": "code",
   "execution_count": 7,
   "metadata": {},
   "outputs": [],
   "source": [
    "ds['z500']=ds['z500']*weights_array\n",
    "ds['u250']=ds['u250']*weights_array"
   ]
  },
  {
   "cell_type": "code",
   "execution_count": 8,
   "metadata": {},
   "outputs": [],
   "source": [
    "norm_z500=np.sqrt((ds['z500'].var(dim='time')).mean(dim=['lat','lon']))\n",
    "ds['z500']=ds['z500']/norm_z500\n",
    "norm_u250=np.sqrt(ds['u250'].var(dim='time').mean(dim=['lat','lon']))\n",
    "ds['u250']=ds['u250']/norm_u250"
   ]
  },
  {
   "cell_type": "code",
   "execution_count": 9,
   "metadata": {},
   "outputs": [
    {
     "name": "stdout",
     "output_type": "stream",
     "text": [
      "3011.4084882772436\n",
      "50.98274412599463\n"
     ]
    }
   ],
   "source": [
    "print(norm_z500.values*norm_z500.values)\n",
    "print(norm_u250.values*norm_u250.values)"
   ]
  },
  {
   "cell_type": "markdown",
   "metadata": {},
   "source": [
    "### Combine Data and Calculate the covariance matrix"
   ]
  },
  {
   "cell_type": "code",
   "execution_count": 10,
   "metadata": {},
   "outputs": [
    {
     "name": "stdout",
     "output_type": "stream",
     "text": [
      "(3010, 2332)\n"
     ]
    }
   ],
   "source": [
    "nt=len(ds['time'])\n",
    "nx=len(ds['lon'])\n",
    "ny=len(ds['lat'])\n",
    "neof=2\n",
    "\n",
    "x1=ds['z500'].values.reshape((nt,nx*ny))\n",
    "x2=ds['u250'].values.reshape((nt,nx*ny))\n",
    "X=np.hstack([x1,x2])\n",
    "print(X.shape)\n",
    "\n",
    "C=np.matmul(X.T,X)\n",
    "\n",
    "#Get Eigenvalues(L) and Eigenvectors(E)\n",
    "# Eigenvalue are EOFS which are spatial part\n",
    "[L,E]=np.linalg.eig(C);\n",
    "\n",
    "\n",
    "# Sort Eigenvalues and Eigenvectors (ES)\n",
    "tmp=np.argsort(L)\n",
    "tmp=tmp[::-1]\n",
    "LL=np.sort(L)\n",
    "EV=LL[::-1]\n",
    "ES=E[:,tmp]\n",
    "\n",
    "# Calcuate the PCs  (Time Series)\n",
    "P=np.matmul(X,ES)\n",
    "\n",
    "EOF=ES[:,0:neof].reshape(2,ny,nx,neof)\n",
    "PC=P[:,0:neof]\n",
    "EV_trunc=EV[0:neof]"
   ]
  },
  {
   "cell_type": "code",
   "execution_count": 11,
   "metadata": {},
   "outputs": [
    {
     "name": "stdout",
     "output_type": "stream",
     "text": [
      "0.7635468131005342\n"
     ]
    },
    {
     "data": {
      "image/png": "[encoded data removed]",
      "text/plain": [
       "<Figure size 432x288 with 1 Axes>"
      ]
     },
     "metadata": {
      "needs_background": "light"
     },
     "output_type": "display_data"
    }
   ],
   "source": [
    "plt.plot((EV[0:50]/sum(EV))*100)\n",
    "print(sum(EV[0:12])/sum(EV))"
   ]
  },
  {
   "cell_type": "code",
   "execution_count": 13,
   "metadata": {},
   "outputs": [],
   "source": [
    "cm = 180\n",
    "proj = ccrs.PlateCarree(central_longitude=cm)\n",
    "minlon = -30 + cm\n",
    "maxlon = +120 + cm\n",
    "lat_labels=np.arange(20,80,20)\n",
    "lon_labels=np.arange(150,330,30)\n",
    "extent=[minlon,maxlon,20,80]"
   ]
  },
  {
   "cell_type": "code",
   "execution_count": 14,
   "metadata": {},
   "outputs": [
    {
     "data": {
      "text/plain": [
       "<matplotlib.colorbar.Colorbar at 0x7f3ebc34f668>"
      ]
     },
     "execution_count": 14,
     "metadata": {},
     "output_type": "execute_result"
    },
    {
     "data": {
      "image/png": "[encoded data removed]",
      "text/plain": [
       "<Figure size 432x288 with 2 Axes>"
      ]
     },
     "metadata": {
      "needs_background": "light"
     },
     "output_type": "display_data"
    }
   ],
   "source": [
    "plt.contourf(EOF[0,:,:,0])\n",
    "\n",
    "levs=np.arange(-0.1,0.07,0.02)\n",
    "z500_eof1=EOF[0,:,:,0]/weights_array\n",
    "ax=plt.axes(projection=proj)\n",
    "ax.set_extent(extent,crs=ccrs.PlateCarree())\n",
    "cs=ax.contourf(ds['lon'],ds['lat'],\n",
    "               z500_eof1,\n",
    "               transform=ccrs.PlateCarree(),\n",
    "              extend='both')\n",
    "ax.set_title('EOF1 z500')\n",
    "ax.coastlines()\n",
    "plt.colorbar(cs)"
   ]
  },
  {
   "cell_type": "code",
   "execution_count": 15,
   "metadata": {},
   "outputs": [
    {
     "data": {
      "text/plain": [
       "[<matplotlib.lines.Line2D at 0x7f3ebc41c198>]"
      ]
     },
     "execution_count": 15,
     "metadata": {},
     "output_type": "execute_result"
    },
    {
     "data": {
      "image/png": "[encoded data removed]",
      "text/plain": [
       "<Figure size 432x288 with 1 Axes>"
      ]
     },
     "metadata": {
      "needs_background": "light"
     },
     "output_type": "display_data"
    }
   ],
   "source": [
    "plt.plot(PC[:,0])"
   ]
  },
  {
   "cell_type": "code",
   "execution_count": 19,
   "metadata": {},
   "outputs": [
    {
     "data": {
      "text/plain": [
       "[<matplotlib.lines.Line2D at 0x7f3ebc19d3c8>]"
      ]
     },
     "execution_count": 19,
     "metadata": {},
     "output_type": "execute_result"
    },
    {
     "data": {
      "image/png": "[encoded data removed]",
      "text/plain": [
       "<Figure size 432x288 with 1 Axes>"
      ]
     },
     "metadata": {
      "needs_background": "light"
     },
     "output_type": "display_data"
    }
   ],
   "source": [
    "nyr=35\n",
    "ndays=86\n",
    "tmp=PC[:,0].reshape(nyr,ndays)\n",
    "plt.plot(tmp[0,:])"
   ]
  },
  {
   "cell_type": "code",
   "execution_count": null,
   "metadata": {},
   "outputs": [],
   "source": []
  }
 ],
 "metadata": {
  "kernelspec": {
   "display_name": "Python (aoes)",
   "language": "python",
   "name": "aoes"
  },
  "language_info": {
   "codemirror_mode": {
    "name": "ipython",
    "version": 3
   },
   "file_extension": ".py",
   "mimetype": "text/x-python",
   "name": "python",
   "nbconvert_exporter": "python",
   "pygments_lexer": "ipython3",
   "version": "3.6.10"
  }
 },
 "nbformat": 4,
 "nbformat_minor": 4
}
