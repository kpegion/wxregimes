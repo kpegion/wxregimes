{
 "cells": [
  {
   "cell_type": "code",
   "execution_count": 1,
   "metadata": {},
   "outputs": [],
   "source": [
    "import xarray as xr\n",
    "import numpy as np\n",
    "import glob"
   ]
  },
  {
   "cell_type": "code",
   "execution_count": 2,
   "metadata": {},
   "outputs": [],
   "source": [
    "def preprocZ(ds):\n",
    "\n",
    "    ds=ds.sel(isobaricInhPa=500,latitude=slice(90,20),longitude=slice(150,300))\n",
    "    \n",
    "    ds=xr.DataArray(ds['z'],\n",
    "                        coords={'lat':ds['latitude'].values,\n",
    "                                'lon': ds['longitude'].values},\n",
    "                            dims=['lat','lon'])        \n",
    "    ds=ds.to_dataset(name='z500')\n",
    "    \n",
    "    print(ds)\n",
    "    \n",
    "    return ds"
   ]
  },
  {
   "cell_type": "code",
   "execution_count": 15,
   "metadata": {},
   "outputs": [
    {
     "name": "stdout",
     "output_type": "stream",
     "text": [
      "<xarray.DataArray 'u' (time: 2, isobaricInhPa: 37, latitude: 256, longitude: 512)>\n",
      "dask.array<concatenate, shape=(2, 37, 256, 512), dtype=float32, chunksize=(1, 37, 256, 512), chunktype=numpy.ndarray>\n",
      "Coordinates:\n",
      "    number         int64 0\n",
      "    step           timedelta64[ns] 00:00:00\n",
      "  * latitude       (latitude) float64 89.46 88.77 88.07 ... -88.07 -88.77 -89.46\n",
      "  * longitude      (longitude) float64 0.0 0.7031 1.406 ... 357.9 358.6 359.3\n",
      "  * isobaricInhPa  (isobaricInhPa) int64 1000 975 950 925 900 875 ... 7 5 3 2 1\n",
      "  * time           (time) datetime64[ns] 1980-01-06 1980-01-27\n",
      "    valid_time     (time) datetime64[ns] 1980-01-06 1980-01-27\n",
      "Attributes:\n",
      "    GRIB_paramId:                             131\n",
      "    GRIB_shortName:                           u\n",
      "    GRIB_units:                               m s**-1\n",
      "    GRIB_name:                                U component of wind\n",
      "    GRIB_cfName:                              eastward_wind\n",
      "    GRIB_cfVarName:                           u\n",
      "    GRIB_dataType:                            an\n",
      "    GRIB_missingValue:                        9999\n",
      "    GRIB_numberOfPoints:                      131072\n",
      "    GRIB_totalNumber:                         0\n",
      "    GRIB_typeOfLevel:                         isobaricInhPa\n",
      "    GRIB_NV:                                  0\n",
      "    GRIB_stepUnits:                           1\n",
      "    GRIB_stepType:                            instant\n",
      "    GRIB_gridType:                            regular_gg\n",
      "    GRIB_gridDefinitionDescription:           Gaussian Latitude/Longitude Grid\n",
      "    GRIB_Nx:                                  512\n",
      "    GRIB_iDirectionIncrementInDegrees:        0.703\n",
      "    GRIB_iScansNegatively:                    0\n",
      "    GRIB_longitudeOfFirstGridPointInDegrees:  0.0\n",
      "    GRIB_longitudeOfLastGridPointInDegrees:   359.297\n",
      "    GRIB_N:                                   128\n",
      "    GRIB_Ny:                                  256\n",
      "    long_name:                                U component of wind\n",
      "    units:                                    m s**-1\n",
      "    standard_name:                            eastward_wind\n"
     ]
    }
   ],
   "source": [
    "filesZ=['/shared/working/rean/era-interim/daily/data/1980/ei.oper.an.pl.regn128cm.1980010600', \n",
    "        '/shared/working/rean/era-interim/daily/data/1980/ei.oper.an.pl.regn128cm.1980012700']\n",
    "\n",
    "#ds_Z=xr.open_mfdataset(filesZ,engine='cfgrib',data_vars='minimal',\n",
    "#                       coords=['time'],\n",
    "#                       combine='nested',concat_dim=['time'],compat='override',\n",
    "#                        backend_kwargs={'indexpath':'',\n",
    "#                                        'filter_by_keys':{'name': 'Geopotential'}})\n",
    "ds_Z=xr.open_mfdataset(filesZ,engine='cfgrib',\n",
    "                       combine='nested',concat_dim=['time'],\n",
    "                       backend_kwargs={'indexpath':'',})\n",
    "print(ds_Z['u'])"
   ]
  },
  {
   "cell_type": "code",
   "execution_count": 4,
   "metadata": {},
   "outputs": [
    {
     "data": {
      "text/html": [
       "<pre>&lt;xarray.Dataset&gt;\n",
       "Dimensions:        (isobaricInhPa: 37, latitude: 256, longitude: 512, time: 2)\n",
       "Coordinates:\n",
       "    number         int64 0\n",
       "    step           timedelta64[ns] 00:00:00\n",
       "  * latitude       (latitude) float64 89.46 88.77 88.07 ... -88.07 -88.77 -89.46\n",
       "  * longitude      (longitude) float64 0.0 0.7031 1.406 ... 357.9 358.6 359.3\n",
       "  * isobaricInhPa  (isobaricInhPa) int64 1000 975 950 925 900 875 ... 7 5 3 2 1\n",
       "  * time           (time) datetime64[ns] 1980-01-06 1980-01-27\n",
       "    valid_time     (time) datetime64[ns] 1980-01-06 1980-01-27\n",
       "Data variables:\n",
       "    pv             (time, isobaricInhPa, latitude, longitude) float32 dask.array&lt;chunksize=(1, 37, 256, 512), meta=np.ndarray&gt;\n",
       "    z              (time, isobaricInhPa, latitude, longitude) float32 dask.array&lt;chunksize=(1, 37, 256, 512), meta=np.ndarray&gt;\n",
       "    t              (time, isobaricInhPa, latitude, longitude) float32 dask.array&lt;chunksize=(1, 37, 256, 512), meta=np.ndarray&gt;\n",
       "    q              (time, isobaricInhPa, latitude, longitude) float32 dask.array&lt;chunksize=(1, 37, 256, 512), meta=np.ndarray&gt;\n",
       "    w              (time, isobaricInhPa, latitude, longitude) float32 dask.array&lt;chunksize=(1, 37, 256, 512), meta=np.ndarray&gt;\n",
       "    vo             (time, isobaricInhPa, latitude, longitude) float32 dask.array&lt;chunksize=(1, 37, 256, 512), meta=np.ndarray&gt;\n",
       "    d              (time, isobaricInhPa, latitude, longitude) float32 dask.array&lt;chunksize=(1, 37, 256, 512), meta=np.ndarray&gt;\n",
       "    r              (time, isobaricInhPa, latitude, longitude) float32 dask.array&lt;chunksize=(1, 37, 256, 512), meta=np.ndarray&gt;\n",
       "    o3             (time, isobaricInhPa, latitude, longitude) float32 dask.array&lt;chunksize=(1, 37, 256, 512), meta=np.ndarray&gt;\n",
       "    clwc           (time, isobaricInhPa, latitude, longitude) float32 dask.array&lt;chunksize=(1, 37, 256, 512), meta=np.ndarray&gt;\n",
       "    ciwc           (time, isobaricInhPa, latitude, longitude) float32 dask.array&lt;chunksize=(1, 37, 256, 512), meta=np.ndarray&gt;\n",
       "    cc             (time, isobaricInhPa, latitude, longitude) float32 dask.array&lt;chunksize=(1, 37, 256, 512), meta=np.ndarray&gt;\n",
       "    u              (time, isobaricInhPa, latitude, longitude) float32 dask.array&lt;chunksize=(1, 37, 256, 512), meta=np.ndarray&gt;\n",
       "    v              (time, isobaricInhPa, latitude, longitude) float32 dask.array&lt;chunksize=(1, 37, 256, 512), meta=np.ndarray&gt;\n",
       "Attributes:\n",
       "    GRIB_edition:            1\n",
       "    GRIB_centre:             ecmf\n",
       "    GRIB_centreDescription:  European Centre for Medium-Range Weather Forecasts\n",
       "    GRIB_subCentre:          0\n",
       "    Conventions:             CF-1.7\n",
       "    institution:             European Centre for Medium-Range Weather Forecasts\n",
       "    history:                 2020-05-04T15:41:59 GRIB to CDM+CF via cfgrib-0....</pre>"
      ],
      "text/plain": [
       "<xarray.Dataset>\n",
       "Dimensions:        (isobaricInhPa: 37, latitude: 256, longitude: 512, time: 2)\n",
       "Coordinates:\n",
       "    number         int64 0\n",
       "    step           timedelta64[ns] 00:00:00\n",
       "  * latitude       (latitude) float64 89.46 88.77 88.07 ... -88.07 -88.77 -89.46\n",
       "  * longitude      (longitude) float64 0.0 0.7031 1.406 ... 357.9 358.6 359.3\n",
       "  * isobaricInhPa  (isobaricInhPa) int64 1000 975 950 925 900 875 ... 7 5 3 2 1\n",
       "  * time           (time) datetime64[ns] 1980-01-06 1980-01-27\n",
       "    valid_time     (time) datetime64[ns] 1980-01-06 1980-01-27\n",
       "Data variables:\n",
       "    pv             (time, isobaricInhPa, latitude, longitude) float32 dask.array<chunksize=(1, 37, 256, 512), meta=np.ndarray>\n",
       "    z              (time, isobaricInhPa, latitude, longitude) float32 dask.array<chunksize=(1, 37, 256, 512), meta=np.ndarray>\n",
       "    t              (time, isobaricInhPa, latitude, longitude) float32 dask.array<chunksize=(1, 37, 256, 512), meta=np.ndarray>\n",
       "    q              (time, isobaricInhPa, latitude, longitude) float32 dask.array<chunksize=(1, 37, 256, 512), meta=np.ndarray>\n",
       "    w              (time, isobaricInhPa, latitude, longitude) float32 dask.array<chunksize=(1, 37, 256, 512), meta=np.ndarray>\n",
       "    vo             (time, isobaricInhPa, latitude, longitude) float32 dask.array<chunksize=(1, 37, 256, 512), meta=np.ndarray>\n",
       "    d              (time, isobaricInhPa, latitude, longitude) float32 dask.array<chunksize=(1, 37, 256, 512), meta=np.ndarray>\n",
       "    r              (time, isobaricInhPa, latitude, longitude) float32 dask.array<chunksize=(1, 37, 256, 512), meta=np.ndarray>\n",
       "    o3             (time, isobaricInhPa, latitude, longitude) float32 dask.array<chunksize=(1, 37, 256, 512), meta=np.ndarray>\n",
       "    clwc           (time, isobaricInhPa, latitude, longitude) float32 dask.array<chunksize=(1, 37, 256, 512), meta=np.ndarray>\n",
       "    ciwc           (time, isobaricInhPa, latitude, longitude) float32 dask.array<chunksize=(1, 37, 256, 512), meta=np.ndarray>\n",
       "    cc             (time, isobaricInhPa, latitude, longitude) float32 dask.array<chunksize=(1, 37, 256, 512), meta=np.ndarray>\n",
       "    u              (time, isobaricInhPa, latitude, longitude) float32 dask.array<chunksize=(1, 37, 256, 512), meta=np.ndarray>\n",
       "    v              (time, isobaricInhPa, latitude, longitude) float32 dask.array<chunksize=(1, 37, 256, 512), meta=np.ndarray>\n",
       "Attributes:\n",
       "    GRIB_edition:            1\n",
       "    GRIB_centre:             ecmf\n",
       "    GRIB_centreDescription:  European Centre for Medium-Range Weather Forecasts\n",
       "    GRIB_subCentre:          0\n",
       "    Conventions:             CF-1.7\n",
       "    institution:             European Centre for Medium-Range Weather Forecasts\n",
       "    history:                 2020-05-04T15:41:59 GRIB to CDM+CF via cfgrib-0...."
      ]
     },
     "execution_count": 4,
     "metadata": {},
     "output_type": "execute_result"
    }
   ],
   "source": [
    "ds_Z"
   ]
  },
  {
   "cell_type": "code",
   "execution_count": null,
   "metadata": {},
   "outputs": [],
   "source": []
  }
 ],
 "metadata": {
  "kernelspec": {
   "display_name": "Python (aoes)",
   "language": "python",
   "name": "aoes"
  },
  "language_info": {
   "codemirror_mode": {
    "name": "ipython",
    "version": 3
   },
   "file_extension": ".py",
   "mimetype": "text/x-python",
   "name": "python",
   "nbconvert_exporter": "python",
   "pygments_lexer": "ipython3",
   "version": "3.6.7"
  }
 },
 "nbformat": 4,
 "nbformat_minor": 4
}
