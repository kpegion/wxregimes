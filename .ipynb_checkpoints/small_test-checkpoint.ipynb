{
 "cells": [
  {
   "cell_type": "markdown",
   "metadata": {},
   "source": [
    "# This is the first step in reproducing the cluster analysis from Sara and David following Amini et al 2019\n",
    "https://doi.org/10.1007/s00382-018-4409-7\n",
    "\n",
    "This program:\n",
    "1. Reads in Z500 and U250 from ERA-Interim for Dec-Jan-Feb 1980/81 to 2014/15\n",
    "* Data are located in: \n",
    "`/shared/working/rean/era-interim/daily/data/yyyy/ei.oper.an.pl.regn128cm.yyyymmddhh`\n",
    "2. Subsets to the PNA region\n",
    "* Defined as: 150-300E; 20-80N\n",
    "3. Extracts only DJF 1980/81 - 2014/15\n",
    "4. Interpolates the data to a 126x64 Gaussian Grid\n",
    "5. Makes 5-day running means\n",
    "6. Writes datasets out to a netcdf files containing both variables \n",
    "* Output file is located in: `/project/predictability/kpegion/wxregimes/era-interim/erai.z500_u250_pna_5dyrm_DJF.1980-2015.nc`"
   ]
  },
  {
   "cell_type": "code",
   "execution_count": 1,
   "metadata": {},
   "outputs": [],
   "source": [
    "import warnings\n",
    "\n",
    "import xarray as xr\n",
    "import matplotlib.pyplot as plt\n",
    "import pandas as pd\n",
    "import numpy as np\n",
    "import glob"
   ]
  },
  {
   "cell_type": "code",
   "execution_count": 2,
   "metadata": {},
   "outputs": [],
   "source": [
    "def preprocZ(ds):\n",
    "\n",
    "    # Extract PNA region and 500hPa level\n",
    "    ds=ds.sel(isobaricInhPa=500,latitude=slice(80,20),longitude=slice(150,300))\n",
    "\n",
    "    # Create a new xarray dataset for z500\n",
    "    ds_tmp=xr.DataArray(ds['z'],\n",
    "                        coords={'lat':ds['latitude'].values,\n",
    "                                'lon': ds['longitude'].values},\n",
    "                            dims=['lat','lon'])        \n",
    "    ds_tmp=ds_tmp.to_dataset(name='z500')\n",
    "    \n",
    "    # Interpolate data to coarser grid\n",
    "#    ds_new_grid=xr.open_dataset('tempgaussian.128x64.nc')\n",
    "#    ds_new_grid=ds_new_grid.rename({'temp':'z500'}).sel(lat=slice(80,20),lon=slice(150,300))\n",
    "#    ds=ds_tmp.interp_like(ds_new_grid)\n",
    "    \n",
    "    ds=ds_tmp\n",
    "    return ds"
   ]
  },
  {
   "cell_type": "code",
   "execution_count": 3,
   "metadata": {},
   "outputs": [],
   "source": [
    "# Turn off all those deprecation warnings\n",
    "#import warnings\n",
    "#warnings.filterwarnings(\"ignore\")"
   ]
  },
  {
   "cell_type": "markdown",
   "metadata": {},
   "source": [
    "### Define file path and names"
   ]
  },
  {
   "cell_type": "code",
   "execution_count": 4,
   "metadata": {},
   "outputs": [],
   "source": [
    "# Input\n",
    "path='/shared/working/rean/era-interim/daily/data/'\n",
    "fname='ei.oper.an.pl.regn128cm.'\n",
    "\n",
    "# Output\n",
    "out_path='/project/predictability/kpegion/wxregimes/era-interim/'\n",
    "ofname='erai.z500_u250_pna_DJF.1980-2015.nc'\n",
    "outfile=out_path+ofname"
   ]
  },
  {
   "cell_type": "code",
   "execution_count": 5,
   "metadata": {},
   "outputs": [
    {
     "data": {
      "text/plain": [
       "array([1980])"
      ]
     },
     "execution_count": 5,
     "metadata": {},
     "output_type": "execute_result"
    }
   ],
   "source": [
    "# Months list\n",
    "mnums=['12']\n",
    "\n",
    "# Dates\n",
    "sdate='19801201'\n",
    "#edate='20151231'\n",
    "edate='19801231'\n",
    "\n",
    "# Years List\n",
    "yrs_list=np.arange(1980,1981)\n",
    "yrs_list"
   ]
  },
  {
   "cell_type": "markdown",
   "metadata": {},
   "source": [
    "### Read in the files for all months and years, and prepocess to subset data for Z500hPa and U250 in the PNA region & interpolate to coarser grid"
   ]
  },
  {
   "cell_type": "code",
   "execution_count": null,
   "metadata": {},
   "outputs": [
    {
     "name": "stdout",
     "output_type": "stream",
     "text": [
      "12\n",
      "['/shared/working/rean/era-interim/daily/data/1980/ei.oper.an.pl.regn128cm.1980122100', '/shared/working/rean/era-interim/daily/data/1980/ei.oper.an.pl.regn128cm.1980121000', '/shared/working/rean/era-interim/daily/data/1980/ei.oper.an.pl.regn128cm.1980123100', '/shared/working/rean/era-interim/daily/data/1980/ei.oper.an.pl.regn128cm.1980123000', '/shared/working/rean/era-interim/daily/data/1980/ei.oper.an.pl.regn128cm.1980121100', '/shared/working/rean/era-interim/daily/data/1980/ei.oper.an.pl.regn128cm.1980120100', '/shared/working/rean/era-interim/daily/data/1980/ei.oper.an.pl.regn128cm.1980122000', '/shared/working/rean/era-interim/daily/data/1980/ei.oper.an.pl.regn128cm.1980122200', '/shared/working/rean/era-interim/daily/data/1980/ei.oper.an.pl.regn128cm.1980120300', '/shared/working/rean/era-interim/daily/data/1980/ei.oper.an.pl.regn128cm.1980121900', '/shared/working/rean/era-interim/daily/data/1980/ei.oper.an.pl.regn128cm.1980120900', '/shared/working/rean/era-interim/daily/data/1980/ei.oper.an.pl.regn128cm.1980122800', '/shared/working/rean/era-interim/daily/data/1980/ei.oper.an.pl.regn128cm.1980121300', '/shared/working/rean/era-interim/daily/data/1980/ei.oper.an.pl.regn128cm.1980121200', '/shared/working/rean/era-interim/daily/data/1980/ei.oper.an.pl.regn128cm.1980122900', '/shared/working/rean/era-interim/daily/data/1980/ei.oper.an.pl.regn128cm.1980120800', '/shared/working/rean/era-interim/daily/data/1980/ei.oper.an.pl.regn128cm.1980121800', '/shared/working/rean/era-interim/daily/data/1980/ei.oper.an.pl.regn128cm.1980120200', '/shared/working/rean/era-interim/daily/data/1980/ei.oper.an.pl.regn128cm.1980122300', '/shared/working/rean/era-interim/daily/data/1980/ei.oper.an.pl.regn128cm.1980122700', '/shared/working/rean/era-interim/daily/data/1980/ei.oper.an.pl.regn128cm.1980120600', '/shared/working/rean/era-interim/daily/data/1980/ei.oper.an.pl.regn128cm.1980121600', '/shared/working/rean/era-interim/daily/data/1980/ei.oper.an.pl.regn128cm.1980121700', '/shared/working/rean/era-interim/daily/data/1980/ei.oper.an.pl.regn128cm.1980120700', '/shared/working/rean/era-interim/daily/data/1980/ei.oper.an.pl.regn128cm.1980122600', '/shared/working/rean/era-interim/daily/data/1980/ei.oper.an.pl.regn128cm.1980122400', '/shared/working/rean/era-interim/daily/data/1980/ei.oper.an.pl.regn128cm.1980120500', '/shared/working/rean/era-interim/daily/data/1980/ei.oper.an.pl.regn128cm.1980121500', '/shared/working/rean/era-interim/daily/data/1980/ei.oper.an.pl.regn128cm.1980121400', '/shared/working/rean/era-interim/daily/data/1980/ei.oper.an.pl.regn128cm.1980120400', '/shared/working/rean/era-interim/daily/data/1980/ei.oper.an.pl.regn128cm.1980122500']\n"
     ]
    }
   ],
   "source": [
    "# Create empty list to append data for each month\n",
    "#ds_Z_months=[]\n",
    "\n",
    "# Loop over months, get list of files and read in data for each month\n",
    "for mnum in mnums:\n",
    "        \n",
    "    print(mnum)\n",
    "    \n",
    "    # Get all the filenames for this month for all years\n",
    "    fnamesZ = [f'{path}{year}/{fname}{year}{mnum}*' for year in yrs_list]       \n",
    "   \n",
    "    # Create list of all filenames for this month, and all years\n",
    "    filesZ=[]\n",
    "    for files in fnamesZ:\n",
    "        f2=glob.glob(files)\n",
    "        for f in f2:\n",
    "            filesZ.append(f)\n",
    "    \n",
    "    print(filesZ)\n",
    "    # Read Geopotential Height (Z) data           \n",
    "    ds_Z=xr.open_mfdataset(filesZ,engine='cfgrib',\n",
    "                           combine='nested',concat_dim=['time'],\n",
    "                           backend_kwargs={'indexpath':'',\n",
    "                                           'filter_by_keys':{'name': 'Geopotential'}},\n",
    "                           preprocess=preprocZ)\n",
    " \n",
    "    \n",
    "    # Create dates for time assign to time dimension\n",
    "#    dates_all=pd.date_range(start=sdate,end=edate,freq='D')\n",
    "#    print(dates_all)\n",
    "#    djf_dates=dates_all[(dates_all.month==int(mnum))]\n",
    "#    print(djf_dates)\n",
    "#    ds_Z['time']=djf_dates\n",
    "        \n",
    "    # Append the latest month to the list\n",
    "#    ds_Z_months.append(ds_Z)\n",
    "        \n",
    "# Combine the months into the init dimension\n",
    "#ds_Z_months = xr.combine_nested(ds_Z_months, concat_dim='time')"
   ]
  },
  {
   "cell_type": "code",
   "execution_count": null,
   "metadata": {},
   "outputs": [],
   "source": [
    "ds_Z"
   ]
  },
  {
   "cell_type": "code",
   "execution_count": 39,
   "metadata": {},
   "outputs": [
    {
     "data": {
      "text/plain": [
       "<matplotlib.contour.QuadContourSet at 0x7fea1c5bc2e8>"
      ]
     },
     "execution_count": 39,
     "metadata": {},
     "output_type": "execute_result"
    },
    {
     "data": {
      "image/png": "[encoded data removed]",
      "text/plain": [
       "<Figure size 432x288 with 1 Axes>"
      ]
     },
     "metadata": {
      "needs_background": "light"
     },
     "output_type": "display_data"
    }
   ],
   "source": [
    "plt.contourf((ds_Z['z500'][15,:,:])/9.81)"
   ]
  },
  {
   "cell_type": "code",
   "execution_count": null,
   "metadata": {},
   "outputs": [],
   "source": []
  }
 ],
 "metadata": {
  "kernelspec": {
   "display_name": "Python (aoes)",
   "language": "python",
   "name": "aoes"
  },
  "language_info": {
   "codemirror_mode": {
    "name": "ipython",
    "version": 3
   },
   "file_extension": ".py",
   "mimetype": "text/x-python",
   "name": "python",
   "nbconvert_exporter": "python",
   "pygments_lexer": "ipython3",
   "version": "3.6.10"
  }
 },
 "nbformat": 4,
 "nbformat_minor": 4
}
