{
 "cells": [
  {
   "cell_type": "markdown",
   "metadata": {},
   "source": [
    "# calcPCs\n",
    "\n",
    "This is the fourth step in reproducing the cluster analysis following [Amini and Straus 2019]\n",
    "(https://doi.org/10.1007/s00382-018-4409-7)\n",
    "\n",
    "This program calculates the EOFs and PCs.  PCs are written to an output file.\n",
    "* Input: `/project/predictability/kpegion/wxregimes/era-interim/erai.z500_u250_pna_5dyrm_DJF.1980 2015.anoms.nc`\n",
    "* Output: `/project/predictability/kpegion/wxregimes/era-interim/erai.z500_u250_pna_5dyrm_DJF.1980 2015.pcs.nc`"
   ]
  },
  {
   "cell_type": "code",
   "execution_count": 1,
   "metadata": {},
   "outputs": [],
   "source": [
    "import xarray as xr\n",
    "import matplotlib.pyplot as plt\n",
    "import pandas as pd\n",
    "import numpy as np\n",
    "import cartopy.crs as ccrs\n",
    "import cartopy.mpl.ticker as cticker\n",
    "\n",
    "from eofs.multivariate.standard import MultivariateEof\n",
    "from eofs.xarray import Eof"
   ]
  },
  {
   "cell_type": "markdown",
   "metadata": {},
   "source": [
    "### Define Input and Output Data"
   ]
  },
  {
   "cell_type": "code",
   "execution_count": 2,
   "metadata": {},
   "outputs": [],
   "source": [
    "# Input\n",
    "path='/project/predictability/kpegion/wxregimes/era-interim/'\n",
    "fname='erai.z500_u250_pna_5dyrm_DJF.1980-2015.anoms.nc'\n",
    "\n",
    "# Output\n",
    "outfile='erai.z500_u250_pna_5dyrm_DJF.1980-2015.pcs.nc'"
   ]
  },
  {
   "cell_type": "markdown",
   "metadata": {},
   "source": [
    "### Define constants"
   ]
  },
  {
   "cell_type": "code",
   "execution_count": 3,
   "metadata": {},
   "outputs": [],
   "source": [
    "npcs=12"
   ]
  },
  {
   "cell_type": "markdown",
   "metadata": {},
   "source": [
    "### Read Data"
   ]
  },
  {
   "cell_type": "code",
   "execution_count": 4,
   "metadata": {},
   "outputs": [
    {
     "name": "stdout",
     "output_type": "stream",
     "text": [
      "/project/predictability/kpegion/wxregimes/era-interim/erai.z500_u250_pna_5dyrm_DJF.1980-2015.anoms.nc\n"
     ]
    }
   ],
   "source": [
    "print(path+fname)\n",
    "ds=xr.open_dataset(path+fname,decode_times=False)"
   ]
  },
  {
   "cell_type": "markdown",
   "metadata": {},
   "source": [
    "### Convert Z500 from X to Y"
   ]
  },
  {
   "cell_type": "code",
   "execution_count": 5,
   "metadata": {},
   "outputs": [
    {
     "data": {
      "text/html": [
       "<div><svg style=\"position: absolute; width: 0; height: 0; overflow: hidden\">\n",
       "<defs>\n",
       "<symbol id=\"icon-database\" viewBox=\"0 0 32 32\">\n",
       "<title>Show/Hide data repr</title>\n",
       "<path d=\"M16 0c-8.837 0-16 2.239-16 5v4c0 2.761 7.163 5 16 5s16-2.239 16-5v-4c0-2.761-7.163-5-16-5z\"></path>\n",
       "<path d=\"M16 17c-8.837 0-16-2.239-16-5v6c0 2.761 7.163 5 16 5s16-2.239 16-5v-6c0 2.761-7.163 5-16 5z\"></path>\n",
       "<path d=\"M16 26c-8.837 0-16-2.239-16-5v6c0 2.761 7.163 5 16 5s16-2.239 16-5v-6c0 2.761-7.163 5-16 5z\"></path>\n",
       "</symbol>\n",
       "<symbol id=\"icon-file-text2\" viewBox=\"0 0 32 32\">\n",
       "<title>Show/Hide attributes</title>\n",
       "<path d=\"M28.681 7.159c-0.694-0.947-1.662-2.053-2.724-3.116s-2.169-2.030-3.116-2.724c-1.612-1.182-2.393-1.319-2.841-1.319h-15.5c-1.378 0-2.5 1.121-2.5 2.5v27c0 1.378 1.122 2.5 2.5 2.5h23c1.378 0 2.5-1.122 2.5-2.5v-19.5c0-0.448-0.137-1.23-1.319-2.841zM24.543 5.457c0.959 0.959 1.712 1.825 2.268 2.543h-4.811v-4.811c0.718 0.556 1.584 1.309 2.543 2.268zM28 29.5c0 0.271-0.229 0.5-0.5 0.5h-23c-0.271 0-0.5-0.229-0.5-0.5v-27c0-0.271 0.229-0.5 0.5-0.5 0 0 15.499-0 15.5 0v7c0 0.552 0.448 1 1 1h7v19.5z\"></path>\n",
       "<path d=\"M23 26h-14c-0.552 0-1-0.448-1-1s0.448-1 1-1h14c0.552 0 1 0.448 1 1s-0.448 1-1 1z\"></path>\n",
       "<path d=\"M23 22h-14c-0.552 0-1-0.448-1-1s0.448-1 1-1h14c0.552 0 1 0.448 1 1s-0.448 1-1 1z\"></path>\n",
       "<path d=\"M23 18h-14c-0.552 0-1-0.448-1-1s0.448-1 1-1h14c0.552 0 1 0.448 1 1s-0.448 1-1 1z\"></path>\n",
       "</symbol>\n",
       "</defs>\n",
       "</svg>\n",
       "<style>/* CSS stylesheet for displaying xarray objects in jupyterlab.\n",
       " *\n",
       " */\n",
       "\n",
       ":root {\n",
       "  --xr-font-color0: var(--jp-content-font-color0, rgba(0, 0, 0, 1));\n",
       "  --xr-font-color2: var(--jp-content-font-color2, rgba(0, 0, 0, 0.54));\n",
       "  --xr-font-color3: var(--jp-content-font-color3, rgba(0, 0, 0, 0.38));\n",
       "  --xr-border-color: var(--jp-border-color2, #e0e0e0);\n",
       "  --xr-disabled-color: var(--jp-layout-color3, #bdbdbd);\n",
       "  --xr-background-color: var(--jp-layout-color0, white);\n",
       "  --xr-background-color-row-even: var(--jp-layout-color1, white);\n",
       "  --xr-background-color-row-odd: var(--jp-layout-color2, #eeeeee);\n",
       "}\n",
       "\n",
       ".xr-wrap {\n",
       "  min-width: 300px;\n",
       "  max-width: 700px;\n",
       "}\n",
       "\n",
       ".xr-header {\n",
       "  padding-top: 6px;\n",
       "  padding-bottom: 6px;\n",
       "  margin-bottom: 4px;\n",
       "  border-bottom: solid 1px var(--xr-border-color);\n",
       "}\n",
       "\n",
       ".xr-header > div,\n",
       ".xr-header > ul {\n",
       "  display: inline;\n",
       "  margin-top: 0;\n",
       "  margin-bottom: 0;\n",
       "}\n",
       "\n",
       ".xr-obj-type,\n",
       ".xr-array-name {\n",
       "  margin-left: 2px;\n",
       "  margin-right: 10px;\n",
       "}\n",
       "\n",
       ".xr-obj-type {\n",
       "  color: var(--xr-font-color2);\n",
       "}\n",
       "\n",
       ".xr-sections {\n",
       "  padding-left: 0 !important;\n",
       "  display: grid;\n",
       "  grid-template-columns: 150px auto auto 1fr 20px 20px;\n",
       "}\n",
       "\n",
       ".xr-section-item {\n",
       "  display: contents;\n",
       "}\n",
       "\n",
       ".xr-section-item input {\n",
       "  display: none;\n",
       "}\n",
       "\n",
       ".xr-section-item input + label {\n",
       "  color: var(--xr-disabled-color);\n",
       "}\n",
       "\n",
       ".xr-section-item input:enabled + label {\n",
       "  cursor: pointer;\n",
       "  color: var(--xr-font-color2);\n",
       "}\n",
       "\n",
       ".xr-section-item input:enabled + label:hover {\n",
       "  color: var(--xr-font-color0);\n",
       "}\n",
       "\n",
       ".xr-section-summary {\n",
       "  grid-column: 1;\n",
       "  color: var(--xr-font-color2);\n",
       "  font-weight: 500;\n",
       "}\n",
       "\n",
       ".xr-section-summary > span {\n",
       "  display: inline-block;\n",
       "  padding-left: 0.5em;\n",
       "}\n",
       "\n",
       ".xr-section-summary-in:disabled + label {\n",
       "  color: var(--xr-font-color2);\n",
       "}\n",
       "\n",
       ".xr-section-summary-in + label:before {\n",
       "  display: inline-block;\n",
       "  content: '►';\n",
       "  font-size: 11px;\n",
       "  width: 15px;\n",
       "  text-align: center;\n",
       "}\n",
       "\n",
       ".xr-section-summary-in:disabled + label:before {\n",
       "  color: var(--xr-disabled-color);\n",
       "}\n",
       "\n",
       ".xr-section-summary-in:checked + label:before {\n",
       "  content: '▼';\n",
       "}\n",
       "\n",
       ".xr-section-summary-in:checked + label > span {\n",
       "  display: none;\n",
       "}\n",
       "\n",
       ".xr-section-summary,\n",
       ".xr-section-inline-details {\n",
       "  padding-top: 4px;\n",
       "  padding-bottom: 4px;\n",
       "}\n",
       "\n",
       ".xr-section-inline-details {\n",
       "  grid-column: 2 / -1;\n",
       "}\n",
       "\n",
       ".xr-section-details {\n",
       "  display: none;\n",
       "  grid-column: 1 / -1;\n",
       "  margin-bottom: 5px;\n",
       "}\n",
       "\n",
       ".xr-section-summary-in:checked ~ .xr-section-details {\n",
       "  display: contents;\n",
       "}\n",
       "\n",
       ".xr-array-wrap {\n",
       "  grid-column: 1 / -1;\n",
       "  display: grid;\n",
       "  grid-template-columns: 20px auto;\n",
       "}\n",
       "\n",
       ".xr-array-wrap > label {\n",
       "  grid-column: 1;\n",
       "  vertical-align: top;\n",
       "}\n",
       "\n",
       ".xr-preview {\n",
       "  color: var(--xr-font-color3);\n",
       "}\n",
       "\n",
       ".xr-array-preview,\n",
       ".xr-array-data {\n",
       "  padding: 0 5px !important;\n",
       "  grid-column: 2;\n",
       "}\n",
       "\n",
       ".xr-array-data,\n",
       ".xr-array-in:checked ~ .xr-array-preview {\n",
       "  display: none;\n",
       "}\n",
       "\n",
       ".xr-array-in:checked ~ .xr-array-data,\n",
       ".xr-array-preview {\n",
       "  display: inline-block;\n",
       "}\n",
       "\n",
       ".xr-dim-list {\n",
       "  display: inline-block !important;\n",
       "  list-style: none;\n",
       "  padding: 0 !important;\n",
       "  margin: 0;\n",
       "}\n",
       "\n",
       ".xr-dim-list li {\n",
       "  display: inline-block;\n",
       "  padding: 0;\n",
       "  margin: 0;\n",
       "}\n",
       "\n",
       ".xr-dim-list:before {\n",
       "  content: '(';\n",
       "}\n",
       "\n",
       ".xr-dim-list:after {\n",
       "  content: ')';\n",
       "}\n",
       "\n",
       ".xr-dim-list li:not(:last-child):after {\n",
       "  content: ',';\n",
       "  padding-right: 5px;\n",
       "}\n",
       "\n",
       ".xr-has-index {\n",
       "  font-weight: bold;\n",
       "}\n",
       "\n",
       ".xr-var-list,\n",
       ".xr-var-item {\n",
       "  display: contents;\n",
       "}\n",
       "\n",
       ".xr-var-item > div,\n",
       ".xr-var-item label,\n",
       ".xr-var-item > .xr-var-name span {\n",
       "  background-color: var(--xr-background-color-row-even);\n",
       "  margin-bottom: 0;\n",
       "}\n",
       "\n",
       ".xr-var-item > .xr-var-name:hover span {\n",
       "  padding-right: 5px;\n",
       "}\n",
       "\n",
       ".xr-var-list > li:nth-child(odd) > div,\n",
       ".xr-var-list > li:nth-child(odd) > label,\n",
       ".xr-var-list > li:nth-child(odd) > .xr-var-name span {\n",
       "  background-color: var(--xr-background-color-row-odd);\n",
       "}\n",
       "\n",
       ".xr-var-name {\n",
       "  grid-column: 1;\n",
       "}\n",
       "\n",
       ".xr-var-dims {\n",
       "  grid-column: 2;\n",
       "}\n",
       "\n",
       ".xr-var-dtype {\n",
       "  grid-column: 3;\n",
       "  text-align: right;\n",
       "  color: var(--xr-font-color2);\n",
       "}\n",
       "\n",
       ".xr-var-preview {\n",
       "  grid-column: 4;\n",
       "}\n",
       "\n",
       ".xr-var-name,\n",
       ".xr-var-dims,\n",
       ".xr-var-dtype,\n",
       ".xr-preview,\n",
       ".xr-attrs dt {\n",
       "  white-space: nowrap;\n",
       "  overflow: hidden;\n",
       "  text-overflow: ellipsis;\n",
       "  padding-right: 10px;\n",
       "}\n",
       "\n",
       ".xr-var-name:hover,\n",
       ".xr-var-dims:hover,\n",
       ".xr-var-dtype:hover,\n",
       ".xr-attrs dt:hover {\n",
       "  overflow: visible;\n",
       "  width: auto;\n",
       "  z-index: 1;\n",
       "}\n",
       "\n",
       ".xr-var-attrs,\n",
       ".xr-var-data {\n",
       "  display: none;\n",
       "  background-color: var(--xr-background-color) !important;\n",
       "  padding-bottom: 5px !important;\n",
       "}\n",
       "\n",
       ".xr-var-attrs-in:checked ~ .xr-var-attrs,\n",
       ".xr-var-data-in:checked ~ .xr-var-data {\n",
       "  display: block;\n",
       "}\n",
       "\n",
       ".xr-var-data > table {\n",
       "  float: right;\n",
       "}\n",
       "\n",
       ".xr-var-name span,\n",
       ".xr-var-data,\n",
       ".xr-attrs {\n",
       "  padding-left: 25px !important;\n",
       "}\n",
       "\n",
       ".xr-attrs,\n",
       ".xr-var-attrs,\n",
       ".xr-var-data {\n",
       "  grid-column: 1 / -1;\n",
       "}\n",
       "\n",
       "dl.xr-attrs {\n",
       "  padding: 0;\n",
       "  margin: 0;\n",
       "  display: grid;\n",
       "  grid-template-columns: 125px auto;\n",
       "}\n",
       "\n",
       ".xr-attrs dt, dd {\n",
       "  padding: 0;\n",
       "  margin: 0;\n",
       "  float: left;\n",
       "  padding-right: 10px;\n",
       "  width: auto;\n",
       "}\n",
       "\n",
       ".xr-attrs dt {\n",
       "  font-weight: normal;\n",
       "  grid-column: 1;\n",
       "}\n",
       "\n",
       ".xr-attrs dt:hover span {\n",
       "  display: inline-block;\n",
       "  background: var(--xr-background-color);\n",
       "  padding-right: 10px;\n",
       "}\n",
       "\n",
       ".xr-attrs dd {\n",
       "  grid-column: 2;\n",
       "  white-space: pre-wrap;\n",
       "  word-break: break-all;\n",
       "}\n",
       "\n",
       ".xr-icon-database,\n",
       ".xr-icon-file-text2 {\n",
       "  display: inline-block;\n",
       "  vertical-align: middle;\n",
       "  width: 1em;\n",
       "  height: 1.5em !important;\n",
       "  stroke-width: 0;\n",
       "  stroke: currentColor;\n",
       "  fill: currentColor;\n",
       "}\n",
       "</style><div class='xr-wrap'><div class='xr-header'><div class='xr-obj-type'>xarray.Dataset</div></div><ul class='xr-sections'><li class='xr-section-item'><input id='section-1eef651c-34a2-4f9e-a1e2-bd3bc657e9b0' class='xr-section-summary-in' type='checkbox' disabled ><label for='section-1eef651c-34a2-4f9e-a1e2-bd3bc657e9b0' class='xr-section-summary'  title='Expand/collapse section'>Dimensions:</label><div class='xr-section-inline-details'><ul class='xr-dim-list'><li><span class='xr-has-index'>lat</span>: 22</li><li><span class='xr-has-index'>lon</span>: 53</li><li><span class='xr-has-index'>time</span>: 3080</li></ul></div><div class='xr-section-details'></div></li><li class='xr-section-item'><input id='section-4dd1c4bf-d03e-430a-be37-25353f6999d8' class='xr-section-summary-in' type='checkbox'  checked><label for='section-4dd1c4bf-d03e-430a-be37-25353f6999d8' class='xr-section-summary' >Coordinates: <span>(3)</span></label><div class='xr-section-inline-details'></div><div class='xr-section-details'><ul class='xr-var-list'><li class='xr-var-item'><div class='xr-var-name'><span class='xr-has-index'>time</span></div><div class='xr-var-dims'>(time)</div><div class='xr-var-dtype'>int64</div><div class='xr-var-preview xr-preview'>0 1 2 3 4 ... 3076 3077 3078 3079</div><input id='attrs-57b4eece-d3a8-4bbc-9b3e-c9c3470b168f' class='xr-var-attrs-in' type='checkbox' disabled><label for='attrs-57b4eece-d3a8-4bbc-9b3e-c9c3470b168f' title='Show/Hide attributes'><svg class='icon xr-icon-file-text2'><use xlink:href='#icon-file-text2'></use></svg></label><input id='data-bebc7659-8c88-430c-a930-a1f162cdd89b' class='xr-var-data-in' type='checkbox'><label for='data-bebc7659-8c88-430c-a930-a1f162cdd89b' title='Show/Hide data repr'><svg class='icon xr-icon-database'><use xlink:href='#icon-database'></use></svg></label><div class='xr-var-attrs'><dl class='xr-attrs'></dl></div><pre class='xr-var-data'>array([   0,    1,    2, ..., 3077, 3078, 3079])</pre></li><li class='xr-var-item'><div class='xr-var-name'><span class='xr-has-index'>lat</span></div><div class='xr-var-dims'>(lat)</div><div class='xr-var-dtype'>float64</div><div class='xr-var-preview xr-preview'>79.53 76.74 73.95 ... 23.72 20.93</div><input id='attrs-95d4714c-5bdf-4506-b0ac-f75d77aaf1e0' class='xr-var-attrs-in' type='checkbox' disabled><label for='attrs-95d4714c-5bdf-4506-b0ac-f75d77aaf1e0' title='Show/Hide attributes'><svg class='icon xr-icon-file-text2'><use xlink:href='#icon-file-text2'></use></svg></label><input id='data-afc34131-0178-4c1f-b6cc-628ba45fcd4d' class='xr-var-data-in' type='checkbox'><label for='data-afc34131-0178-4c1f-b6cc-628ba45fcd4d' title='Show/Hide data repr'><svg class='icon xr-icon-database'><use xlink:href='#icon-database'></use></svg></label><div class='xr-var-attrs'><dl class='xr-attrs'></dl></div><pre class='xr-var-data'>array([79.53, 76.74, 73.95, 71.16, 68.37, 65.58, 62.79, 60.  , 57.21, 54.42,\n",
       "       51.63, 48.84, 46.04, 43.25, 40.46, 37.67, 34.88, 32.09, 29.3 , 26.51,\n",
       "       23.72, 20.93])</pre></li><li class='xr-var-item'><div class='xr-var-name'><span class='xr-has-index'>lon</span></div><div class='xr-var-dims'>(lon)</div><div class='xr-var-dtype'>float64</div><div class='xr-var-preview xr-preview'>151.9 154.7 157.5 ... 295.3 298.1</div><input id='attrs-b088094d-5da0-4f8b-82b6-908995f3ef51' class='xr-var-attrs-in' type='checkbox' disabled><label for='attrs-b088094d-5da0-4f8b-82b6-908995f3ef51' title='Show/Hide attributes'><svg class='icon xr-icon-file-text2'><use xlink:href='#icon-file-text2'></use></svg></label><input id='data-d6341264-b297-4813-bc22-86559cdabf29' class='xr-var-data-in' type='checkbox'><label for='data-d6341264-b297-4813-bc22-86559cdabf29' title='Show/Hide data repr'><svg class='icon xr-icon-database'><use xlink:href='#icon-database'></use></svg></label><div class='xr-var-attrs'><dl class='xr-attrs'></dl></div><pre class='xr-var-data'>array([151.875 , 154.6875, 157.5   , 160.3125, 163.125 , 165.9375, 168.75  ,\n",
       "       171.5625, 174.375 , 177.1875, 180.    , 182.8125, 185.625 , 188.4375,\n",
       "       191.25  , 194.0625, 196.875 , 199.6875, 202.5   , 205.3125, 208.125 ,\n",
       "       210.9375, 213.75  , 216.5625, 219.375 , 222.1875, 225.    , 227.8125,\n",
       "       230.625 , 233.4375, 236.25  , 239.0625, 241.875 , 244.6875, 247.5   ,\n",
       "       250.3125, 253.125 , 255.9375, 258.75  , 261.5625, 264.375 , 267.1875,\n",
       "       270.    , 272.8125, 275.625 , 278.4375, 281.25  , 284.0625, 286.875 ,\n",
       "       289.6875, 292.5   , 295.3125, 298.125 ])</pre></li></ul></div></li><li class='xr-section-item'><input id='section-3102e2fe-7dbf-409f-a90b-39eeff5cc97b' class='xr-section-summary-in' type='checkbox'  checked><label for='section-3102e2fe-7dbf-409f-a90b-39eeff5cc97b' class='xr-section-summary' >Data variables: <span>(2)</span></label><div class='xr-section-inline-details'></div><div class='xr-section-details'><ul class='xr-var-list'><li class='xr-var-item'><div class='xr-var-name'><span>z500</span></div><div class='xr-var-dims'>(time, lat, lon)</div><div class='xr-var-dtype'>float64</div><div class='xr-var-preview xr-preview'>-145.7 -153.4 ... 46.04 45.02</div><input id='attrs-4e7f609c-3431-4d29-a5e2-debc924b03b5' class='xr-var-attrs-in' type='checkbox' disabled><label for='attrs-4e7f609c-3431-4d29-a5e2-debc924b03b5' title='Show/Hide attributes'><svg class='icon xr-icon-file-text2'><use xlink:href='#icon-file-text2'></use></svg></label><input id='data-31d0fb6d-53c5-4691-89c2-f27711008a37' class='xr-var-data-in' type='checkbox'><label for='data-31d0fb6d-53c5-4691-89c2-f27711008a37' title='Show/Hide data repr'><svg class='icon xr-icon-database'><use xlink:href='#icon-database'></use></svg></label><div class='xr-var-attrs'><dl class='xr-attrs'></dl></div><pre class='xr-var-data'>array([[[-145.6936465 , -153.35792932, -159.65085547, ...,\n",
       "          202.00528611,  201.99044969,  201.57382633],\n",
       "        [-111.47904814, -122.93267678, -131.57507707, ...,\n",
       "          208.79986569,  210.26354119,  210.98196781],\n",
       "        [ -51.26788715,  -68.47894015,  -84.8169549 , ...,\n",
       "          188.17182444,  189.55336946,  192.53844422],\n",
       "        ...,\n",
       "        [ -26.48531992,  -32.62185541,  -39.73511358, ...,\n",
       "          -12.28190045,  -13.1313058 ,  -14.11102751],\n",
       "        [ -22.66381443,  -25.81659104,  -28.7095752 , ...,\n",
       "           -6.0219788 ,   -6.84556283,   -7.60722897],\n",
       "        [ -17.0578159 ,  -18.08360632,  -18.94278092, ...,\n",
       "           -3.93283641,   -4.11954795,   -3.65717963]],\n",
       "\n",
       "       [[-117.02005774, -123.97392275, -130.55520085, ...,\n",
       "          190.40748248,  188.46952732,  186.46864388],\n",
       "        [ -57.15268462,  -65.1670215 ,  -71.79315536, ...,\n",
       "          185.17621535,  183.62909189,  183.30516804],\n",
       "        [  18.2246753 ,    7.32458673,   -3.81653813, ...,\n",
       "          158.79347946,  156.45178205,  159.24578359],\n",
       "        ...,\n",
       "        [ -28.12319056,  -33.41755725,  -39.47192139, ...,\n",
       "          -32.54586745,  -34.90022074,  -36.82916269],\n",
       "        [ -26.35499641,  -29.15895871,  -30.76999625, ...,\n",
       "          -24.85502252,  -26.1837413 ,  -27.19359752],\n",
       "        [ -19.749256  ,  -20.3217332 ,  -20.50714086, ...,\n",
       "          -18.87790474,  -19.25030466,  -18.88442263]],\n",
       "\n",
       "       [[ -89.63473897,  -96.06219199, -102.06484692, ...,\n",
       "          139.08998167,  137.48896599,  135.79490956],\n",
       "        [  -4.06803909,   -7.30938941,  -10.77413433, ...,\n",
       "          134.9571707 ,  132.53498875,  131.47158864],\n",
       "        [  78.81663585,   76.43616545,   73.33378007, ...,\n",
       "          133.84513213,  128.23562045,  127.56125256],\n",
       "        ...,\n",
       "        [ -35.89962752,  -37.79892271,  -41.9459922 , ...,\n",
       "          -55.03261413,  -60.3241548 ,  -62.13234741],\n",
       "        [ -32.9690763 ,  -34.64114443,  -34.87174158, ...,\n",
       "          -43.6021007 ,  -45.89955012,  -45.88782619],\n",
       "        [ -24.90706991,  -24.77834378,  -24.35462584, ...,\n",
       "          -33.47770346,  -33.85893165,  -32.21563511]],\n",
       "\n",
       "       ...,\n",
       "\n",
       "       [[  10.94753998,    6.78774892,    3.32364271, ...,\n",
       "         -147.41674054, -150.43928912, -152.55346776],\n",
       "        [ -46.57719621,  -54.47478326,  -60.77040218, ...,\n",
       "         -146.22309663, -148.82454945, -151.22967442],\n",
       "        [ -80.71604716,  -91.44767039,  -98.81479708, ...,\n",
       "         -138.16369949, -141.83934246, -146.394473  ],\n",
       "        ...,\n",
       "        [  23.21563841,   22.44673717,   23.01971957, ...,\n",
       "           45.176741  ,   48.10878402,   50.93403288],\n",
       "        [  -2.32907761,   -7.41126496,  -10.41940552, ...,\n",
       "           35.56224841,   35.85603783,   36.90887506],\n",
       "        [ -11.03141049,  -17.60713373,  -24.11071418, ...,\n",
       "           26.45848724,   26.86645736,   26.46801876]],\n",
       "\n",
       "       [[ -30.99982415,  -38.29863491,  -44.73736603, ...,\n",
       "         -156.1143987 , -155.06316373, -153.28208319],\n",
       "        [ -89.61895517,  -99.58559707, -107.66060032, ...,\n",
       "         -154.20049673, -152.29021465, -150.65895325],\n",
       "        [-120.01835251, -132.13519341, -140.24538364, ...,\n",
       "         -146.28469738, -146.41285643, -147.30113644],\n",
       "        ...,\n",
       "        [  27.73539266,   28.61975831,   29.27744431, ...,\n",
       "           60.66011908,   65.19374189,   68.95399699],\n",
       "        [   2.29524076,   -0.59741466,   -3.29988873, ...,\n",
       "           49.00575887,   50.68361711,   52.14512354],\n",
       "        [  -7.8446933 ,  -12.97371509,  -18.12834005, ...,\n",
       "           37.69949207,   38.63483109,   38.53038091]],\n",
       "\n",
       "       [[ -59.02989589,  -66.85146549,  -73.78878188, ...,\n",
       "         -140.05092748, -136.74227971, -133.26094627],\n",
       "        [-108.40837956, -117.84371392, -125.09459379, ...,\n",
       "         -135.5268253 , -131.76806227, -128.50270464],\n",
       "        [-124.38541976, -132.47814873, -137.64647655, ...,\n",
       "         -127.70384923, -127.35609618, -127.32803685],\n",
       "        ...,\n",
       "        [  27.86537003,   28.33661497,   27.78968285, ...,\n",
       "           75.31999941,   78.62597049,   81.44304625],\n",
       "        [  -0.26561446,   -3.38837686,   -6.84788079, ...,\n",
       "           58.89975865,   59.95688019,   60.7829546 ],\n",
       "        [ -12.35614986,  -17.57356088,  -23.00668416, ...,\n",
       "           45.93336216,   46.03571406,   45.01720695]]])</pre></li><li class='xr-var-item'><div class='xr-var-name'><span>u250</span></div><div class='xr-var-dims'>(time, lat, lon)</div><div class='xr-var-dtype'>float64</div><div class='xr-var-preview xr-preview'>...</div><input id='attrs-1ed3aad0-71d5-44e3-b2de-7b7b88330ac7' class='xr-var-attrs-in' type='checkbox' disabled><label for='attrs-1ed3aad0-71d5-44e3-b2de-7b7b88330ac7' title='Show/Hide attributes'><svg class='icon xr-icon-file-text2'><use xlink:href='#icon-file-text2'></use></svg></label><input id='data-eb251915-5007-46d9-95b9-92e8861485b2' class='xr-var-data-in' type='checkbox'><label for='data-eb251915-5007-46d9-95b9-92e8861485b2' title='Show/Hide data repr'><svg class='icon xr-icon-database'><use xlink:href='#icon-database'></use></svg></label><div class='xr-var-attrs'><dl class='xr-attrs'></dl></div><pre class='xr-var-data'>[3591280 values with dtype=float64]</pre></li></ul></div></li><li class='xr-section-item'><input id='section-0b137acf-0bf5-48a8-b9f1-2cff3ff55f74' class='xr-section-summary-in' type='checkbox' disabled ><label for='section-0b137acf-0bf5-48a8-b9f1-2cff3ff55f74' class='xr-section-summary'  title='Expand/collapse section'>Attributes: <span>(0)</span></label><div class='xr-section-inline-details'></div><div class='xr-section-details'><dl class='xr-attrs'></dl></div></li></ul></div></div>"
      ],
      "text/plain": [
       "<xarray.Dataset>\n",
       "Dimensions:  (lat: 22, lon: 53, time: 3080)\n",
       "Coordinates:\n",
       "  * time     (time) int64 0 1 2 3 4 5 6 7 ... 3073 3074 3075 3076 3077 3078 3079\n",
       "  * lat      (lat) float64 79.53 76.74 73.95 71.16 ... 29.3 26.51 23.72 20.93\n",
       "  * lon      (lon) float64 151.9 154.7 157.5 160.3 ... 289.7 292.5 295.3 298.1\n",
       "Data variables:\n",
       "    z500     (time, lat, lon) float64 -145.7 -153.4 -159.7 ... 45.93 46.04 45.02\n",
       "    u250     (time, lat, lon) float64 ..."
      ]
     },
     "execution_count": 5,
     "metadata": {},
     "output_type": "execute_result"
    }
   ],
   "source": [
    "ds['z500']=ds['z500']/9.81\n",
    "ds"
   ]
  },
  {
   "cell_type": "markdown",
   "metadata": {},
   "source": [
    "### Quick test plot"
   ]
  },
  {
   "cell_type": "code",
   "execution_count": 6,
   "metadata": {},
   "outputs": [
    {
     "data": {
      "text/plain": [
       "[<matplotlib.lines.Line2D at 0x7fb28404c208>]"
      ]
     },
     "execution_count": 6,
     "metadata": {},
     "output_type": "execute_result"
    },
    {
     "data": {
      "image/png": "[encoded data removed]",
      "text/plain": [
       "<Figure size 432x288 with 1 Axes>"
      ]
     },
     "metadata": {
      "needs_background": "light"
     },
     "output_type": "display_data"
    }
   ],
   "source": [
    "plt.plot(ds['z500'][0:88,12,25])"
   ]
  },
  {
   "cell_type": "markdown",
   "metadata": {},
   "source": [
    "### Calculate Latitude Weights"
   ]
  },
  {
   "cell_type": "code",
   "execution_count": 7,
   "metadata": {},
   "outputs": [],
   "source": [
    "coslat = np.cos(np.deg2rad(ds['lat'].values))\n",
    "weights_array = np.sqrt(coslat)[:, np.newaxis]"
   ]
  },
  {
   "cell_type": "markdown",
   "metadata": {},
   "source": [
    "### Apply Latitude Weighting"
   ]
  },
  {
   "cell_type": "code",
   "execution_count": 8,
   "metadata": {},
   "outputs": [],
   "source": [
    "ds['z500']=ds['z500']*weights_array\n",
    "ds['u250']=ds['u250']*weights_array"
   ]
  },
  {
   "cell_type": "markdown",
   "metadata": {},
   "source": [
    "### Normalize the Data"
   ]
  },
  {
   "cell_type": "code",
   "execution_count": 9,
   "metadata": {},
   "outputs": [],
   "source": [
    "norm_z500=np.sqrt((ds['z500'].var(dim='time')).mean(dim=['lat','lon']))\n",
    "norm_u250=np.sqrt(ds['u250'].var(dim='time').mean(dim=['lat','lon']))\n",
    "\n",
    "ds['z500']=ds['z500']/norm_z500\n",
    "ds['u250']=ds['u250']/norm_u250"
   ]
  },
  {
   "cell_type": "markdown",
   "metadata": {},
   "source": [
    "### Check values of normalization (this the variance, normalized by std)"
   ]
  },
  {
   "cell_type": "code",
   "execution_count": 10,
   "metadata": {},
   "outputs": [
    {
     "name": "stdout",
     "output_type": "stream",
     "text": [
      "5920.157848168376\n",
      "89.21151510943824\n"
     ]
    }
   ],
   "source": [
    "print(norm_z500.values*norm_z500.values)\n",
    "print(norm_u250.values*norm_u250.values)"
   ]
  },
  {
   "cell_type": "markdown",
   "metadata": {},
   "source": [
    "### Create the eof solver with latitude weighted data"
   ]
  },
  {
   "cell_type": "code",
   "execution_count": 11,
   "metadata": {},
   "outputs": [],
   "source": [
    "solver=MultivariateEof([ds['z500'].values,ds['u250'].values])"
   ]
  },
  {
   "cell_type": "markdown",
   "metadata": {},
   "source": [
    "### Get the EOF (spatial pattern)"
   ]
  },
  {
   "cell_type": "code",
   "execution_count": 12,
   "metadata": {},
   "outputs": [],
   "source": [
    "eof1_list=solver.eofs(neofs=npcs,eofscaling=0)"
   ]
  },
  {
   "cell_type": "markdown",
   "metadata": {},
   "source": [
    "### Plot the EOFs"
   ]
  },
  {
   "cell_type": "code",
   "execution_count": 13,
   "metadata": {},
   "outputs": [],
   "source": [
    "# Map settings\n",
    "cm = 180\n",
    "proj = ccrs.PlateCarree(central_longitude=cm)\n",
    "minlon = -30 + cm\n",
    "maxlon = +120 + cm\n",
    "lat_labels=np.arange(20,80,20)\n",
    "lon_labels=np.arange(150,330,30)\n",
    "extent=[minlon,maxlon,20,80]"
   ]
  },
  {
   "cell_type": "code",
   "execution_count": 14,
   "metadata": {},
   "outputs": [
    {
     "data": {
      "text/plain": [
       "<matplotlib.colorbar.Colorbar at 0x7fb26d8177b8>"
      ]
     },
     "execution_count": 14,
     "metadata": {},
     "output_type": "execute_result"
    },
    {
     "data": {
      "image/png": "[encoded data removed]",
      "text/plain": [
       "<Figure size 432x288 with 2 Axes>"
      ]
     },
     "metadata": {
      "needs_background": "light"
     },
     "output_type": "display_data"
    }
   ],
   "source": [
    "# EOF 1 Z500\n",
    "levs=np.arange(-0.1,0.07,0.02)\n",
    "z500_eof1=eof1_list[0][0,:,:]/weights_array\n",
    "ax=plt.axes(projection=proj)\n",
    "ax.set_extent(extent,crs=ccrs.PlateCarree())\n",
    "cs=ax.contourf(ds['lon'],ds['lat'],\n",
    "               z500_eof1*-1,levs,\n",
    "               transform=ccrs.PlateCarree(),\n",
    "              extend='both')\n",
    "ax.set_title('EOF1 z500')\n",
    "ax.coastlines()\n",
    "plt.colorbar(cs)"
   ]
  },
  {
   "cell_type": "code",
   "execution_count": 15,
   "metadata": {},
   "outputs": [
    {
     "data": {
      "text/plain": [
       "<matplotlib.colorbar.Colorbar at 0x7fb26d72c6a0>"
      ]
     },
     "execution_count": 15,
     "metadata": {},
     "output_type": "execute_result"
    },
    {
     "data": {
      "image/png": "[encoded data removed]",
      "text/plain": [
       "<Figure size 432x288 with 2 Axes>"
      ]
     },
     "metadata": {
      "needs_background": "light"
     },
     "output_type": "display_data"
    }
   ],
   "source": [
    "# EOF 1 U250\n",
    "levs=np.arange(-0.045,0.1,0.015)\n",
    "u250_eof1=eof1_list[1][0,:,:]/weights_array\n",
    "ax=plt.axes(projection=proj)\n",
    "ax.set_extent(extent,crs=ccrs.PlateCarree())\n",
    "cs=ax.contourf(ds['lon'],ds['lat'],\n",
    "               u250_eof1,levs,\n",
    "               transform=ccrs.PlateCarree(),\n",
    "               extend='both')\n",
    "ax.set_title('EOF1 u250')\n",
    "ax.coastlines()\n",
    "plt.colorbar(cs)"
   ]
  },
  {
   "cell_type": "code",
   "execution_count": 16,
   "metadata": {},
   "outputs": [
    {
     "data": {
      "text/plain": [
       "<matplotlib.colorbar.Colorbar at 0x7fb26d5edc18>"
      ]
     },
     "execution_count": 16,
     "metadata": {},
     "output_type": "execute_result"
    },
    {
     "data": {
      "image/png": "[encoded data removed]",
      "text/plain": [
       "<Figure size 432x288 with 2 Axes>"
      ]
     },
     "metadata": {
      "needs_background": "light"
     },
     "output_type": "display_data"
    }
   ],
   "source": [
    "# EOF 2 Z500\n",
    "levs=np.arange(-0.06,0.08,0.02)\n",
    "z500_eof2=eof1_list[0][1,:,:]/weights_array\n",
    "ax=plt.axes(projection=proj)\n",
    "ax.set_extent(extent,crs=ccrs.PlateCarree())\n",
    "cs=ax.contourf(ds['lon'],ds['lat'],\n",
    "               z500_eof2,levs,\n",
    "               transform=ccrs.PlateCarree(),\n",
    "               extend='both')\n",
    "ax.set_title('EOF2 z500')\n",
    "ax.coastlines()\n",
    "plt.colorbar(cs)"
   ]
  },
  {
   "cell_type": "code",
   "execution_count": 17,
   "metadata": {},
   "outputs": [
    {
     "data": {
      "text/plain": [
       "<matplotlib.colorbar.Colorbar at 0x7fb26d536be0>"
      ]
     },
     "execution_count": 17,
     "metadata": {},
     "output_type": "execute_result"
    },
    {
     "data": {
      "image/png": "[encoded data removed]",
      "text/plain": [
       "<Figure size 432x288 with 2 Axes>"
      ]
     },
     "metadata": {
      "needs_background": "light"
     },
     "output_type": "display_data"
    }
   ],
   "source": [
    "# EOF 2 U250\n",
    "levs=np.arange(-0.075,0.07,0.015)\n",
    "u250_eof2=eof1_list[1][1,:,:]/weights_array\n",
    "ax=plt.axes(projection=proj)\n",
    "ax.set_extent(extent,crs=ccrs.PlateCarree())\n",
    "cs=ax.contourf(ds['lon'],ds['lat'],\n",
    "               u250_eof2,levs,\n",
    "               transform=ccrs.PlateCarree(),extend='both')\n",
    "ax.set_title('EOF2 u250')\n",
    "ax.coastlines()\n",
    "plt.colorbar(cs)"
   ]
  },
  {
   "cell_type": "markdown",
   "metadata": {},
   "source": [
    "### Get the First 12 PCs"
   ]
  },
  {
   "cell_type": "code",
   "execution_count": 18,
   "metadata": {},
   "outputs": [
    {
     "data": {
      "text/plain": [
       "(3080, 12)"
      ]
     },
     "execution_count": 18,
     "metadata": {},
     "output_type": "execute_result"
    }
   ],
   "source": [
    "pcs = solver.pcs(npcs=npcs, pcscaling=0)\n",
    "pcs.shape"
   ]
  },
  {
   "cell_type": "markdown",
   "metadata": {},
   "source": [
    "### Find out how much variance is explained by first 12 PCs; Amini and Straus found about 80%"
   ]
  },
  {
   "cell_type": "code",
   "execution_count": 19,
   "metadata": {},
   "outputs": [
    {
     "data": {
      "text/plain": [
       "80.32970003690002"
      ]
     },
     "execution_count": 19,
     "metadata": {},
     "output_type": "execute_result"
    }
   ],
   "source": [
    "variance_fractions = solver.varianceFraction(neigs=npcs)\n",
    "variance_fractions.sum()*100"
   ]
  },
  {
   "cell_type": "markdown",
   "metadata": {},
   "source": [
    "### Put PCs into `xr.Dataset`"
   ]
  },
  {
   "cell_type": "code",
   "execution_count": 20,
   "metadata": {},
   "outputs": [],
   "source": [
    "pcs_ds=xr.DataArray(pcs,\n",
    "                    coords={'time': ds['time'].values,\n",
    "                            'pcnum':np.arange(npcs)},\n",
    "                            dims=['time','pcnum'])        \n",
    "pcs_ds=pcs_ds.to_dataset(name='pcs')"
   ]
  },
  {
   "cell_type": "code",
   "execution_count": 21,
   "metadata": {},
   "outputs": [
    {
     "data": {
      "text/html": [
       "<div><svg style=\"position: absolute; width: 0; height: 0; overflow: hidden\">\n",
       "<defs>\n",
       "<symbol id=\"icon-database\" viewBox=\"0 0 32 32\">\n",
       "<title>Show/Hide data repr</title>\n",
       "<path d=\"M16 0c-8.837 0-16 2.239-16 5v4c0 2.761 7.163 5 16 5s16-2.239 16-5v-4c0-2.761-7.163-5-16-5z\"></path>\n",
       "<path d=\"M16 17c-8.837 0-16-2.239-16-5v6c0 2.761 7.163 5 16 5s16-2.239 16-5v-6c0 2.761-7.163 5-16 5z\"></path>\n",
       "<path d=\"M16 26c-8.837 0-16-2.239-16-5v6c0 2.761 7.163 5 16 5s16-2.239 16-5v-6c0 2.761-7.163 5-16 5z\"></path>\n",
       "</symbol>\n",
       "<symbol id=\"icon-file-text2\" viewBox=\"0 0 32 32\">\n",
       "<title>Show/Hide attributes</title>\n",
       "<path d=\"M28.681 7.159c-0.694-0.947-1.662-2.053-2.724-3.116s-2.169-2.030-3.116-2.724c-1.612-1.182-2.393-1.319-2.841-1.319h-15.5c-1.378 0-2.5 1.121-2.5 2.5v27c0 1.378 1.122 2.5 2.5 2.5h23c1.378 0 2.5-1.122 2.5-2.5v-19.5c0-0.448-0.137-1.23-1.319-2.841zM24.543 5.457c0.959 0.959 1.712 1.825 2.268 2.543h-4.811v-4.811c0.718 0.556 1.584 1.309 2.543 2.268zM28 29.5c0 0.271-0.229 0.5-0.5 0.5h-23c-0.271 0-0.5-0.229-0.5-0.5v-27c0-0.271 0.229-0.5 0.5-0.5 0 0 15.499-0 15.5 0v7c0 0.552 0.448 1 1 1h7v19.5z\"></path>\n",
       "<path d=\"M23 26h-14c-0.552 0-1-0.448-1-1s0.448-1 1-1h14c0.552 0 1 0.448 1 1s-0.448 1-1 1z\"></path>\n",
       "<path d=\"M23 22h-14c-0.552 0-1-0.448-1-1s0.448-1 1-1h14c0.552 0 1 0.448 1 1s-0.448 1-1 1z\"></path>\n",
       "<path d=\"M23 18h-14c-0.552 0-1-0.448-1-1s0.448-1 1-1h14c0.552 0 1 0.448 1 1s-0.448 1-1 1z\"></path>\n",
       "</symbol>\n",
       "</defs>\n",
       "</svg>\n",
       "<style>/* CSS stylesheet for displaying xarray objects in jupyterlab.\n",
       " *\n",
       " */\n",
       "\n",
       ":root {\n",
       "  --xr-font-color0: var(--jp-content-font-color0, rgba(0, 0, 0, 1));\n",
       "  --xr-font-color2: var(--jp-content-font-color2, rgba(0, 0, 0, 0.54));\n",
       "  --xr-font-color3: var(--jp-content-font-color3, rgba(0, 0, 0, 0.38));\n",
       "  --xr-border-color: var(--jp-border-color2, #e0e0e0);\n",
       "  --xr-disabled-color: var(--jp-layout-color3, #bdbdbd);\n",
       "  --xr-background-color: var(--jp-layout-color0, white);\n",
       "  --xr-background-color-row-even: var(--jp-layout-color1, white);\n",
       "  --xr-background-color-row-odd: var(--jp-layout-color2, #eeeeee);\n",
       "}\n",
       "\n",
       ".xr-wrap {\n",
       "  min-width: 300px;\n",
       "  max-width: 700px;\n",
       "}\n",
       "\n",
       ".xr-header {\n",
       "  padding-top: 6px;\n",
       "  padding-bottom: 6px;\n",
       "  margin-bottom: 4px;\n",
       "  border-bottom: solid 1px var(--xr-border-color);\n",
       "}\n",
       "\n",
       ".xr-header > div,\n",
       ".xr-header > ul {\n",
       "  display: inline;\n",
       "  margin-top: 0;\n",
       "  margin-bottom: 0;\n",
       "}\n",
       "\n",
       ".xr-obj-type,\n",
       ".xr-array-name {\n",
       "  margin-left: 2px;\n",
       "  margin-right: 10px;\n",
       "}\n",
       "\n",
       ".xr-obj-type {\n",
       "  color: var(--xr-font-color2);\n",
       "}\n",
       "\n",
       ".xr-sections {\n",
       "  padding-left: 0 !important;\n",
       "  display: grid;\n",
       "  grid-template-columns: 150px auto auto 1fr 20px 20px;\n",
       "}\n",
       "\n",
       ".xr-section-item {\n",
       "  display: contents;\n",
       "}\n",
       "\n",
       ".xr-section-item input {\n",
       "  display: none;\n",
       "}\n",
       "\n",
       ".xr-section-item input + label {\n",
       "  color: var(--xr-disabled-color);\n",
       "}\n",
       "\n",
       ".xr-section-item input:enabled + label {\n",
       "  cursor: pointer;\n",
       "  color: var(--xr-font-color2);\n",
       "}\n",
       "\n",
       ".xr-section-item input:enabled + label:hover {\n",
       "  color: var(--xr-font-color0);\n",
       "}\n",
       "\n",
       ".xr-section-summary {\n",
       "  grid-column: 1;\n",
       "  color: var(--xr-font-color2);\n",
       "  font-weight: 500;\n",
       "}\n",
       "\n",
       ".xr-section-summary > span {\n",
       "  display: inline-block;\n",
       "  padding-left: 0.5em;\n",
       "}\n",
       "\n",
       ".xr-section-summary-in:disabled + label {\n",
       "  color: var(--xr-font-color2);\n",
       "}\n",
       "\n",
       ".xr-section-summary-in + label:before {\n",
       "  display: inline-block;\n",
       "  content: '►';\n",
       "  font-size: 11px;\n",
       "  width: 15px;\n",
       "  text-align: center;\n",
       "}\n",
       "\n",
       ".xr-section-summary-in:disabled + label:before {\n",
       "  color: var(--xr-disabled-color);\n",
       "}\n",
       "\n",
       ".xr-section-summary-in:checked + label:before {\n",
       "  content: '▼';\n",
       "}\n",
       "\n",
       ".xr-section-summary-in:checked + label > span {\n",
       "  display: none;\n",
       "}\n",
       "\n",
       ".xr-section-summary,\n",
       ".xr-section-inline-details {\n",
       "  padding-top: 4px;\n",
       "  padding-bottom: 4px;\n",
       "}\n",
       "\n",
       ".xr-section-inline-details {\n",
       "  grid-column: 2 / -1;\n",
       "}\n",
       "\n",
       ".xr-section-details {\n",
       "  display: none;\n",
       "  grid-column: 1 / -1;\n",
       "  margin-bottom: 5px;\n",
       "}\n",
       "\n",
       ".xr-section-summary-in:checked ~ .xr-section-details {\n",
       "  display: contents;\n",
       "}\n",
       "\n",
       ".xr-array-wrap {\n",
       "  grid-column: 1 / -1;\n",
       "  display: grid;\n",
       "  grid-template-columns: 20px auto;\n",
       "}\n",
       "\n",
       ".xr-array-wrap > label {\n",
       "  grid-column: 1;\n",
       "  vertical-align: top;\n",
       "}\n",
       "\n",
       ".xr-preview {\n",
       "  color: var(--xr-font-color3);\n",
       "}\n",
       "\n",
       ".xr-array-preview,\n",
       ".xr-array-data {\n",
       "  padding: 0 5px !important;\n",
       "  grid-column: 2;\n",
       "}\n",
       "\n",
       ".xr-array-data,\n",
       ".xr-array-in:checked ~ .xr-array-preview {\n",
       "  display: none;\n",
       "}\n",
       "\n",
       ".xr-array-in:checked ~ .xr-array-data,\n",
       ".xr-array-preview {\n",
       "  display: inline-block;\n",
       "}\n",
       "\n",
       ".xr-dim-list {\n",
       "  display: inline-block !important;\n",
       "  list-style: none;\n",
       "  padding: 0 !important;\n",
       "  margin: 0;\n",
       "}\n",
       "\n",
       ".xr-dim-list li {\n",
       "  display: inline-block;\n",
       "  padding: 0;\n",
       "  margin: 0;\n",
       "}\n",
       "\n",
       ".xr-dim-list:before {\n",
       "  content: '(';\n",
       "}\n",
       "\n",
       ".xr-dim-list:after {\n",
       "  content: ')';\n",
       "}\n",
       "\n",
       ".xr-dim-list li:not(:last-child):after {\n",
       "  content: ',';\n",
       "  padding-right: 5px;\n",
       "}\n",
       "\n",
       ".xr-has-index {\n",
       "  font-weight: bold;\n",
       "}\n",
       "\n",
       ".xr-var-list,\n",
       ".xr-var-item {\n",
       "  display: contents;\n",
       "}\n",
       "\n",
       ".xr-var-item > div,\n",
       ".xr-var-item label,\n",
       ".xr-var-item > .xr-var-name span {\n",
       "  background-color: var(--xr-background-color-row-even);\n",
       "  margin-bottom: 0;\n",
       "}\n",
       "\n",
       ".xr-var-item > .xr-var-name:hover span {\n",
       "  padding-right: 5px;\n",
       "}\n",
       "\n",
       ".xr-var-list > li:nth-child(odd) > div,\n",
       ".xr-var-list > li:nth-child(odd) > label,\n",
       ".xr-var-list > li:nth-child(odd) > .xr-var-name span {\n",
       "  background-color: var(--xr-background-color-row-odd);\n",
       "}\n",
       "\n",
       ".xr-var-name {\n",
       "  grid-column: 1;\n",
       "}\n",
       "\n",
       ".xr-var-dims {\n",
       "  grid-column: 2;\n",
       "}\n",
       "\n",
       ".xr-var-dtype {\n",
       "  grid-column: 3;\n",
       "  text-align: right;\n",
       "  color: var(--xr-font-color2);\n",
       "}\n",
       "\n",
       ".xr-var-preview {\n",
       "  grid-column: 4;\n",
       "}\n",
       "\n",
       ".xr-var-name,\n",
       ".xr-var-dims,\n",
       ".xr-var-dtype,\n",
       ".xr-preview,\n",
       ".xr-attrs dt {\n",
       "  white-space: nowrap;\n",
       "  overflow: hidden;\n",
       "  text-overflow: ellipsis;\n",
       "  padding-right: 10px;\n",
       "}\n",
       "\n",
       ".xr-var-name:hover,\n",
       ".xr-var-dims:hover,\n",
       ".xr-var-dtype:hover,\n",
       ".xr-attrs dt:hover {\n",
       "  overflow: visible;\n",
       "  width: auto;\n",
       "  z-index: 1;\n",
       "}\n",
       "\n",
       ".xr-var-attrs,\n",
       ".xr-var-data {\n",
       "  display: none;\n",
       "  background-color: var(--xr-background-color) !important;\n",
       "  padding-bottom: 5px !important;\n",
       "}\n",
       "\n",
       ".xr-var-attrs-in:checked ~ .xr-var-attrs,\n",
       ".xr-var-data-in:checked ~ .xr-var-data {\n",
       "  display: block;\n",
       "}\n",
       "\n",
       ".xr-var-data > table {\n",
       "  float: right;\n",
       "}\n",
       "\n",
       ".xr-var-name span,\n",
       ".xr-var-data,\n",
       ".xr-attrs {\n",
       "  padding-left: 25px !important;\n",
       "}\n",
       "\n",
       ".xr-attrs,\n",
       ".xr-var-attrs,\n",
       ".xr-var-data {\n",
       "  grid-column: 1 / -1;\n",
       "}\n",
       "\n",
       "dl.xr-attrs {\n",
       "  padding: 0;\n",
       "  margin: 0;\n",
       "  display: grid;\n",
       "  grid-template-columns: 125px auto;\n",
       "}\n",
       "\n",
       ".xr-attrs dt, dd {\n",
       "  padding: 0;\n",
       "  margin: 0;\n",
       "  float: left;\n",
       "  padding-right: 10px;\n",
       "  width: auto;\n",
       "}\n",
       "\n",
       ".xr-attrs dt {\n",
       "  font-weight: normal;\n",
       "  grid-column: 1;\n",
       "}\n",
       "\n",
       ".xr-attrs dt:hover span {\n",
       "  display: inline-block;\n",
       "  background: var(--xr-background-color);\n",
       "  padding-right: 10px;\n",
       "}\n",
       "\n",
       ".xr-attrs dd {\n",
       "  grid-column: 2;\n",
       "  white-space: pre-wrap;\n",
       "  word-break: break-all;\n",
       "}\n",
       "\n",
       ".xr-icon-database,\n",
       ".xr-icon-file-text2 {\n",
       "  display: inline-block;\n",
       "  vertical-align: middle;\n",
       "  width: 1em;\n",
       "  height: 1.5em !important;\n",
       "  stroke-width: 0;\n",
       "  stroke: currentColor;\n",
       "  fill: currentColor;\n",
       "}\n",
       "</style><div class='xr-wrap'><div class='xr-header'><div class='xr-obj-type'>xarray.Dataset</div></div><ul class='xr-sections'><li class='xr-section-item'><input id='section-37df5ace-3fc6-4d85-a8b1-22bbc3f0a71f' class='xr-section-summary-in' type='checkbox' disabled ><label for='section-37df5ace-3fc6-4d85-a8b1-22bbc3f0a71f' class='xr-section-summary'  title='Expand/collapse section'>Dimensions:</label><div class='xr-section-inline-details'><ul class='xr-dim-list'><li><span class='xr-has-index'>pcnum</span>: 12</li><li><span class='xr-has-index'>time</span>: 3080</li></ul></div><div class='xr-section-details'></div></li><li class='xr-section-item'><input id='section-a957700f-ccec-4869-98e7-22d78df82433' class='xr-section-summary-in' type='checkbox'  checked><label for='section-a957700f-ccec-4869-98e7-22d78df82433' class='xr-section-summary' >Coordinates: <span>(2)</span></label><div class='xr-section-inline-details'></div><div class='xr-section-details'><ul class='xr-var-list'><li class='xr-var-item'><div class='xr-var-name'><span class='xr-has-index'>time</span></div><div class='xr-var-dims'>(time)</div><div class='xr-var-dtype'>int64</div><div class='xr-var-preview xr-preview'>0 1 2 3 4 ... 3076 3077 3078 3079</div><input id='attrs-c8552c59-1a44-4cc9-8ca6-f412c04510ac' class='xr-var-attrs-in' type='checkbox' disabled><label for='attrs-c8552c59-1a44-4cc9-8ca6-f412c04510ac' title='Show/Hide attributes'><svg class='icon xr-icon-file-text2'><use xlink:href='#icon-file-text2'></use></svg></label><input id='data-43d39852-a3aa-419e-8db2-4ba7f9c277a1' class='xr-var-data-in' type='checkbox'><label for='data-43d39852-a3aa-419e-8db2-4ba7f9c277a1' title='Show/Hide data repr'><svg class='icon xr-icon-database'><use xlink:href='#icon-database'></use></svg></label><div class='xr-var-attrs'><dl class='xr-attrs'></dl></div><pre class='xr-var-data'>array([   0,    1,    2, ..., 3077, 3078, 3079])</pre></li><li class='xr-var-item'><div class='xr-var-name'><span class='xr-has-index'>pcnum</span></div><div class='xr-var-dims'>(pcnum)</div><div class='xr-var-dtype'>int64</div><div class='xr-var-preview xr-preview'>0 1 2 3 4 5 6 7 8 9 10 11</div><input id='attrs-a663cbfb-5a5a-474a-9120-35f90d9d1bfe' class='xr-var-attrs-in' type='checkbox' disabled><label for='attrs-a663cbfb-5a5a-474a-9120-35f90d9d1bfe' title='Show/Hide attributes'><svg class='icon xr-icon-file-text2'><use xlink:href='#icon-file-text2'></use></svg></label><input id='data-7e3a9871-bfbc-4c62-bcba-91ed274eb32f' class='xr-var-data-in' type='checkbox'><label for='data-7e3a9871-bfbc-4c62-bcba-91ed274eb32f' title='Show/Hide data repr'><svg class='icon xr-icon-database'><use xlink:href='#icon-database'></use></svg></label><div class='xr-var-attrs'><dl class='xr-attrs'></dl></div><pre class='xr-var-data'>array([ 0,  1,  2,  3,  4,  5,  6,  7,  8,  9, 10, 11])</pre></li></ul></div></li><li class='xr-section-item'><input id='section-de1a7501-7283-45b8-8d5d-5093a95d1af0' class='xr-section-summary-in' type='checkbox'  checked><label for='section-de1a7501-7283-45b8-8d5d-5093a95d1af0' class='xr-section-summary' >Data variables: <span>(1)</span></label><div class='xr-section-inline-details'></div><div class='xr-section-details'><ul class='xr-var-list'><li class='xr-var-item'><div class='xr-var-name'><span>pcs</span></div><div class='xr-var-dims'>(time, pcnum)</div><div class='xr-var-dtype'>float64</div><div class='xr-var-preview xr-preview'>1.803 -23.58 27.72 ... 4.864 -6.262</div><input id='attrs-9ffadf75-04a6-4401-a437-d716ce1215a0' class='xr-var-attrs-in' type='checkbox' disabled><label for='attrs-9ffadf75-04a6-4401-a437-d716ce1215a0' title='Show/Hide attributes'><svg class='icon xr-icon-file-text2'><use xlink:href='#icon-file-text2'></use></svg></label><input id='data-a7218666-f6e9-4fdf-9964-2120e195d603' class='xr-var-data-in' type='checkbox'><label for='data-a7218666-f6e9-4fdf-9964-2120e195d603' title='Show/Hide data repr'><svg class='icon xr-icon-database'><use xlink:href='#icon-database'></use></svg></label><div class='xr-var-attrs'><dl class='xr-attrs'></dl></div><pre class='xr-var-data'>array([[  1.80262359, -23.58393326,  27.71806909, ...,   8.60692036,\n",
       "         -5.2926102 ,   1.90250845],\n",
       "       [  1.02000616, -22.45070437,  27.9954059 , ...,   3.762382  ,\n",
       "         -3.66826071,   1.99898518],\n",
       "       [ -1.45806645, -23.1506552 ,  25.38222179, ...,  -0.65276992,\n",
       "         -2.53956781,   2.9355791 ],\n",
       "       ...,\n",
       "       [ 29.4362354 , -10.99205355,  -8.51633146, ...,   0.90714704,\n",
       "          9.06302078,  -5.00009481],\n",
       "       [ 34.54966939, -10.77793682,  -7.62214671, ...,   2.70950718,\n",
       "          6.11557375,  -7.87859937],\n",
       "       [ 37.31190386, -12.05607985,  -8.12844518, ...,   3.29131968,\n",
       "          4.86373982,  -6.26209795]])</pre></li></ul></div></li><li class='xr-section-item'><input id='section-150f242f-b0e2-4f25-8dcc-90f17fed710d' class='xr-section-summary-in' type='checkbox' disabled ><label for='section-150f242f-b0e2-4f25-8dcc-90f17fed710d' class='xr-section-summary'  title='Expand/collapse section'>Attributes: <span>(0)</span></label><div class='xr-section-inline-details'></div><div class='xr-section-details'><dl class='xr-attrs'></dl></div></li></ul></div></div>"
      ],
      "text/plain": [
       "<xarray.Dataset>\n",
       "Dimensions:  (pcnum: 12, time: 3080)\n",
       "Coordinates:\n",
       "  * time     (time) int64 0 1 2 3 4 5 6 7 ... 3073 3074 3075 3076 3077 3078 3079\n",
       "  * pcnum    (pcnum) int64 0 1 2 3 4 5 6 7 8 9 10 11\n",
       "Data variables:\n",
       "    pcs      (time, pcnum) float64 1.803 -23.58 27.72 ... 3.291 4.864 -6.262"
      ]
     },
     "execution_count": 21,
     "metadata": {},
     "output_type": "execute_result"
    }
   ],
   "source": [
    "pcs_ds"
   ]
  },
  {
   "cell_type": "markdown",
   "metadata": {},
   "source": [
    "### Plot the first PC"
   ]
  },
  {
   "cell_type": "code",
   "execution_count": 22,
   "metadata": {},
   "outputs": [
    {
     "data": {
      "text/plain": [
       "[<matplotlib.lines.Line2D at 0x7fb26d4af9b0>]"
      ]
     },
     "execution_count": 22,
     "metadata": {},
     "output_type": "execute_result"
    },
    {
     "data": {
      "image/png": "[encoded data removed]",
      "text/plain": [
       "<Figure size 432x288 with 1 Axes>"
      ]
     },
     "metadata": {
      "needs_background": "light"
     },
     "output_type": "display_data"
    }
   ],
   "source": [
    "plt.plot(pcs_ds['pcs'][0:88,0]*-1)"
   ]
  },
  {
   "cell_type": "code",
   "execution_count": 23,
   "metadata": {},
   "outputs": [],
   "source": [
    "pcs_ds.to_netcdf(path+outfile)"
   ]
  },
  {
   "cell_type": "code",
   "execution_count": null,
   "metadata": {},
   "outputs": [],
   "source": []
  }
 ],
 "metadata": {
  "kernelspec": {
   "display_name": "Python (aoes)",
   "language": "python",
   "name": "aoes"
  },
  "language_info": {
   "codemirror_mode": {
    "name": "ipython",
    "version": 3
   },
   "file_extension": ".py",
   "mimetype": "text/x-python",
   "name": "python",
   "nbconvert_exporter": "python",
   "pygments_lexer": "ipython3",
   "version": "3.6.10"
  }
 },
 "nbformat": 4,
 "nbformat_minor": 4
}
